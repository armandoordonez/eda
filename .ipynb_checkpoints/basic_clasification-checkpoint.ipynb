{
 "cells": [
  {
   "cell_type": "markdown",
   "metadata": {
    "colab_type": "text",
    "id": "view-in-github"
   },
   "source": [
    "<a href=\"https://colab.research.google.com/github/armandoordonez/eda_couse/blob/main/basic_clasification.ipynb\" target=\"_parent\"><img src=\"https://colab.research.google.com/assets/colab-badge.svg\" alt=\"Open In Colab\"/></a>"
   ]
  },
  {
   "cell_type": "markdown",
   "metadata": {},
   "source": [
    "## Ejercicio de clasificación en clase\n",
    "### Luis Esteban Ordoñez Erazo"
   ]
  },
  {
   "cell_type": "code",
   "execution_count": 1,
   "metadata": {
    "id": "rJdwHr3UnJll"
   },
   "outputs": [],
   "source": [
    "# Importar bibliotecas necesarias\n",
    "import pandas as pd\n",
    "from sklearn.model_selection import train_test_split\n",
    "from sklearn.ensemble import RandomForestClassifier\n",
    "from sklearn.metrics import accuracy_score, classification_report, confusion_matrix\n",
    "import matplotlib.pyplot as plt\n",
    "import seaborn as sns\n",
    "\n",
    "# Paso 1: Cargar el archivo CSV\n",
    "ruta_archivo = 'https://raw.githubusercontent.com/armandoordonez/eda_couse/main/data/prediccion_prestamo_train.csv'  # Reemplaza con la ruta de tu archivo CSV\n",
    "data = pd.read_csv(ruta_archivo)"
   ]
  },
  {
   "cell_type": "code",
   "execution_count": 2,
   "metadata": {
    "colab": {
     "base_uri": "https://localhost:8080/"
    },
    "id": "T3PObNqLpOgz",
    "outputId": "8b499c69-be89-4c29-fb0a-3f5a922dc2da"
   },
   "outputs": [
    {
     "name": "stdout",
     "output_type": "stream",
     "text": [
      "Información del conjunto de datos:\n",
      "<class 'pandas.core.frame.DataFrame'>\n",
      "RangeIndex: 614 entries, 0 to 613\n",
      "Data columns (total 13 columns):\n",
      " #   Column                   Non-Null Count  Dtype  \n",
      "---  ------                   --------------  -----  \n",
      " 0   ID                       614 non-null    object \n",
      " 1   Genero                   601 non-null    object \n",
      " 2   Married                  611 non-null    object \n",
      " 3   dependientes             599 non-null    object \n",
      " 4    educacion               614 non-null    object \n",
      " 5    autoempleado            582 non-null    object \n",
      " 6    ingresos_solicitante    614 non-null    int64  \n",
      " 7    ingresos_cosolicitante  614 non-null    float64\n",
      " 8    monto_prestamo          592 non-null    float64\n",
      " 9    plazo_prestamo          600 non-null    float64\n",
      " 10   historial_crediticio    564 non-null    float64\n",
      " 11   area_propiedad          614 non-null    object \n",
      " 12   estado_prestamo         614 non-null    object \n",
      "dtypes: float64(4), int64(1), object(8)\n",
      "memory usage: 62.5+ KB\n",
      "None\n",
      "\n",
      "Estadísticas descriptivas:\n",
      "        ingresos_solicitante   ingresos_cosolicitante   monto_prestamo  \\\n",
      "count             614.000000               614.000000       592.000000   \n",
      "mean             5403.459283              1621.245798       146.412162   \n",
      "std              6109.041673              2926.248369        85.587325   \n",
      "min               150.000000                 0.000000         9.000000   \n",
      "25%              2877.500000                 0.000000       100.000000   \n",
      "50%              3812.500000              1188.500000       128.000000   \n",
      "75%              5795.000000              2297.250000       168.000000   \n",
      "max             81000.000000             41667.000000       700.000000   \n",
      "\n",
      "        plazo_prestamo   historial_crediticio  \n",
      "count        600.00000             564.000000  \n",
      "mean         342.00000               0.842199  \n",
      "std           65.12041               0.364878  \n",
      "min           12.00000               0.000000  \n",
      "25%          360.00000               1.000000  \n",
      "50%          360.00000               1.000000  \n",
      "75%          360.00000               1.000000  \n",
      "max          480.00000               1.000000  \n"
     ]
    }
   ],
   "source": [
    "# Paso 2: Análisis Exploratorio\n",
    "# Puedes imprimir información básica sobre el conjunto de datos\n",
    "print(\"Información del conjunto de datos:\")\n",
    "print(data.info())\n",
    "\n",
    "# Mostrar estadísticas descriptivas\n",
    "print(\"\\nEstadísticas descriptivas:\")\n",
    "print(data.describe())"
   ]
  },
  {
   "cell_type": "code",
   "execution_count": 3,
   "metadata": {
    "id": "F8j_-Hv1Iv79"
   },
   "outputs": [],
   "source": [
    "data = data.dropna()"
   ]
  },
  {
   "cell_type": "code",
   "execution_count": 4,
   "metadata": {
    "colab": {
     "base_uri": "https://localhost:8080/"
    },
    "id": "GhOnZBblI5-L",
    "outputId": "277ae026-91c2-409f-a470-e43de3e075e0"
   },
   "outputs": [
    {
     "name": "stdout",
     "output_type": "stream",
     "text": [
      "<class 'pandas.core.frame.DataFrame'>\n",
      "Index: 480 entries, 1 to 613\n",
      "Data columns (total 13 columns):\n",
      " #   Column                   Non-Null Count  Dtype  \n",
      "---  ------                   --------------  -----  \n",
      " 0   ID                       480 non-null    object \n",
      " 1   Genero                   480 non-null    object \n",
      " 2   Married                  480 non-null    object \n",
      " 3   dependientes             480 non-null    object \n",
      " 4    educacion               480 non-null    object \n",
      " 5    autoempleado            480 non-null    object \n",
      " 6    ingresos_solicitante    480 non-null    int64  \n",
      " 7    ingresos_cosolicitante  480 non-null    float64\n",
      " 8    monto_prestamo          480 non-null    float64\n",
      " 9    plazo_prestamo          480 non-null    float64\n",
      " 10   historial_crediticio    480 non-null    float64\n",
      " 11   area_propiedad          480 non-null    object \n",
      " 12   estado_prestamo         480 non-null    object \n",
      "dtypes: float64(4), int64(1), object(8)\n",
      "memory usage: 52.5+ KB\n",
      "None\n"
     ]
    }
   ],
   "source": [
    "print(data.info())"
   ]
  },
  {
   "cell_type": "code",
   "execution_count": 5,
   "metadata": {
    "colab": {
     "base_uri": "https://localhost:8080/",
     "height": 241
    },
    "id": "ZSRUSuzzplsy",
    "outputId": "9e931449-63d5-4ce1-9600-952fc27324ce"
   },
   "outputs": [
    {
     "name": "stdout",
     "output_type": "stream",
     "text": [
      "\n",
      "Primeras filas del conjunto de datos:\n"
     ]
    },
    {
     "data": {
      "text/html": [
       "<div>\n",
       "<style scoped>\n",
       "    .dataframe tbody tr th:only-of-type {\n",
       "        vertical-align: middle;\n",
       "    }\n",
       "\n",
       "    .dataframe tbody tr th {\n",
       "        vertical-align: top;\n",
       "    }\n",
       "\n",
       "    .dataframe thead th {\n",
       "        text-align: right;\n",
       "    }\n",
       "</style>\n",
       "<table border=\"1\" class=\"dataframe\">\n",
       "  <thead>\n",
       "    <tr style=\"text-align: right;\">\n",
       "      <th></th>\n",
       "      <th>ID</th>\n",
       "      <th>Genero</th>\n",
       "      <th>Married</th>\n",
       "      <th>dependientes</th>\n",
       "      <th>educacion</th>\n",
       "      <th>autoempleado</th>\n",
       "      <th>ingresos_solicitante</th>\n",
       "      <th>ingresos_cosolicitante</th>\n",
       "      <th>monto_prestamo</th>\n",
       "      <th>plazo_prestamo</th>\n",
       "      <th>historial_crediticio</th>\n",
       "      <th>area_propiedad</th>\n",
       "      <th>estado_prestamo</th>\n",
       "    </tr>\n",
       "  </thead>\n",
       "  <tbody>\n",
       "    <tr>\n",
       "      <th>1</th>\n",
       "      <td>LP001003</td>\n",
       "      <td>Hombre</td>\n",
       "      <td>Si</td>\n",
       "      <td>1</td>\n",
       "      <td>Graduado</td>\n",
       "      <td>No</td>\n",
       "      <td>4583</td>\n",
       "      <td>1508.0</td>\n",
       "      <td>128.0</td>\n",
       "      <td>360.0</td>\n",
       "      <td>1.0</td>\n",
       "      <td>Rural</td>\n",
       "      <td>N</td>\n",
       "    </tr>\n",
       "    <tr>\n",
       "      <th>2</th>\n",
       "      <td>LP001005</td>\n",
       "      <td>Hombre</td>\n",
       "      <td>Si</td>\n",
       "      <td>0</td>\n",
       "      <td>Graduado</td>\n",
       "      <td>Si</td>\n",
       "      <td>3000</td>\n",
       "      <td>0.0</td>\n",
       "      <td>66.0</td>\n",
       "      <td>360.0</td>\n",
       "      <td>1.0</td>\n",
       "      <td>Urbano</td>\n",
       "      <td>Y</td>\n",
       "    </tr>\n",
       "    <tr>\n",
       "      <th>3</th>\n",
       "      <td>LP001006</td>\n",
       "      <td>Hombre</td>\n",
       "      <td>Si</td>\n",
       "      <td>0</td>\n",
       "      <td>Not Graduado</td>\n",
       "      <td>No</td>\n",
       "      <td>2583</td>\n",
       "      <td>2358.0</td>\n",
       "      <td>120.0</td>\n",
       "      <td>360.0</td>\n",
       "      <td>1.0</td>\n",
       "      <td>Urbano</td>\n",
       "      <td>Y</td>\n",
       "    </tr>\n",
       "    <tr>\n",
       "      <th>4</th>\n",
       "      <td>LP001008</td>\n",
       "      <td>Hombre</td>\n",
       "      <td>No</td>\n",
       "      <td>0</td>\n",
       "      <td>Graduado</td>\n",
       "      <td>No</td>\n",
       "      <td>6000</td>\n",
       "      <td>0.0</td>\n",
       "      <td>141.0</td>\n",
       "      <td>360.0</td>\n",
       "      <td>1.0</td>\n",
       "      <td>Urbano</td>\n",
       "      <td>Y</td>\n",
       "    </tr>\n",
       "    <tr>\n",
       "      <th>5</th>\n",
       "      <td>LP001011</td>\n",
       "      <td>Hombre</td>\n",
       "      <td>Si</td>\n",
       "      <td>2</td>\n",
       "      <td>Graduado</td>\n",
       "      <td>Si</td>\n",
       "      <td>5417</td>\n",
       "      <td>4196.0</td>\n",
       "      <td>267.0</td>\n",
       "      <td>360.0</td>\n",
       "      <td>1.0</td>\n",
       "      <td>Urbano</td>\n",
       "      <td>Y</td>\n",
       "    </tr>\n",
       "  </tbody>\n",
       "</table>\n",
       "</div>"
      ],
      "text/plain": [
       "         ID  Genero Married dependientes     educacion  autoempleado  \\\n",
       "1  LP001003  Hombre      Si            1      Graduado            No   \n",
       "2  LP001005  Hombre      Si            0      Graduado            Si   \n",
       "3  LP001006  Hombre      Si            0  Not Graduado            No   \n",
       "4  LP001008  Hombre      No            0      Graduado            No   \n",
       "5  LP001011  Hombre      Si            2      Graduado            Si   \n",
       "\n",
       "    ingresos_solicitante   ingresos_cosolicitante   monto_prestamo  \\\n",
       "1                   4583                   1508.0            128.0   \n",
       "2                   3000                      0.0             66.0   \n",
       "3                   2583                   2358.0            120.0   \n",
       "4                   6000                      0.0            141.0   \n",
       "5                   5417                   4196.0            267.0   \n",
       "\n",
       "    plazo_prestamo   historial_crediticio  area_propiedad  estado_prestamo  \n",
       "1            360.0                    1.0           Rural                N  \n",
       "2            360.0                    1.0          Urbano                Y  \n",
       "3            360.0                    1.0          Urbano                Y  \n",
       "4            360.0                    1.0          Urbano                Y  \n",
       "5            360.0                    1.0          Urbano                Y  "
      ]
     },
     "execution_count": 5,
     "metadata": {},
     "output_type": "execute_result"
    }
   ],
   "source": [
    "# Visualizar las primeras filas del conjunto de datos\n",
    "print(\"\\nPrimeras filas del conjunto de datos:\")\n",
    "data.head(5)"
   ]
  },
  {
   "cell_type": "code",
   "execution_count": 6,
   "metadata": {
    "id": "V7D5Vuz-q4ID"
   },
   "outputs": [],
   "source": [
    "# Paso 3: Dividir el conjunto de datos en características (X) y etiquetas (y)\n",
    "X = data[[\" ingresos_solicitante\", \" ingresos_cosolicitante\", \" monto_prestamo\"]]\n",
    "y = data[' estado_prestamo']"
   ]
  },
  {
   "cell_type": "code",
   "execution_count": 7,
   "metadata": {
    "colab": {
     "base_uri": "https://localhost:8080/"
    },
    "id": "g7mRY2EcJQLe",
    "outputId": "e639d573-2d74-4664-ab5d-6bebee66a55f"
   },
   "outputs": [
    {
     "name": "stdout",
     "output_type": "stream",
     "text": [
      "<class 'pandas.core.frame.DataFrame'>\n",
      "Index: 480 entries, 1 to 613\n",
      "Data columns (total 3 columns):\n",
      " #   Column                   Non-Null Count  Dtype  \n",
      "---  ------                   --------------  -----  \n",
      " 0    ingresos_solicitante    480 non-null    int64  \n",
      " 1    ingresos_cosolicitante  480 non-null    float64\n",
      " 2    monto_prestamo          480 non-null    float64\n",
      "dtypes: float64(2), int64(1)\n",
      "memory usage: 15.0 KB\n",
      "None\n"
     ]
    }
   ],
   "source": [
    "print(X.info())"
   ]
  },
  {
   "cell_type": "code",
   "execution_count": 8,
   "metadata": {
    "id": "P1-FzidzJWwj"
   },
   "outputs": [],
   "source": [
    "data[' estado_prestamo'] = data[' estado_prestamo'].replace({\"Y\": 1, \"N\": 0})\n",
    "data[' estado_prestamo'] = data[' estado_prestamo'].astype(int)"
   ]
  },
  {
   "cell_type": "code",
   "execution_count": 9,
   "metadata": {
    "colab": {
     "base_uri": "https://localhost:8080/",
     "height": 75
    },
    "id": "cP-r7vkypV09",
    "outputId": "2bb65ea3-333f-44fb-f367-f7d0cad53bd9"
   },
   "outputs": [
    {
     "data": {
      "text/html": [
       "<style>#sk-container-id-1 {color: black;}#sk-container-id-1 pre{padding: 0;}#sk-container-id-1 div.sk-toggleable {background-color: white;}#sk-container-id-1 label.sk-toggleable__label {cursor: pointer;display: block;width: 100%;margin-bottom: 0;padding: 0.3em;box-sizing: border-box;text-align: center;}#sk-container-id-1 label.sk-toggleable__label-arrow:before {content: \"▸\";float: left;margin-right: 0.25em;color: #696969;}#sk-container-id-1 label.sk-toggleable__label-arrow:hover:before {color: black;}#sk-container-id-1 div.sk-estimator:hover label.sk-toggleable__label-arrow:before {color: black;}#sk-container-id-1 div.sk-toggleable__content {max-height: 0;max-width: 0;overflow: hidden;text-align: left;background-color: #f0f8ff;}#sk-container-id-1 div.sk-toggleable__content pre {margin: 0.2em;color: black;border-radius: 0.25em;background-color: #f0f8ff;}#sk-container-id-1 input.sk-toggleable__control:checked~div.sk-toggleable__content {max-height: 200px;max-width: 100%;overflow: auto;}#sk-container-id-1 input.sk-toggleable__control:checked~label.sk-toggleable__label-arrow:before {content: \"▾\";}#sk-container-id-1 div.sk-estimator input.sk-toggleable__control:checked~label.sk-toggleable__label {background-color: #d4ebff;}#sk-container-id-1 div.sk-label input.sk-toggleable__control:checked~label.sk-toggleable__label {background-color: #d4ebff;}#sk-container-id-1 input.sk-hidden--visually {border: 0;clip: rect(1px 1px 1px 1px);clip: rect(1px, 1px, 1px, 1px);height: 1px;margin: -1px;overflow: hidden;padding: 0;position: absolute;width: 1px;}#sk-container-id-1 div.sk-estimator {font-family: monospace;background-color: #f0f8ff;border: 1px dotted black;border-radius: 0.25em;box-sizing: border-box;margin-bottom: 0.5em;}#sk-container-id-1 div.sk-estimator:hover {background-color: #d4ebff;}#sk-container-id-1 div.sk-parallel-item::after {content: \"\";width: 100%;border-bottom: 1px solid gray;flex-grow: 1;}#sk-container-id-1 div.sk-label:hover label.sk-toggleable__label {background-color: #d4ebff;}#sk-container-id-1 div.sk-serial::before {content: \"\";position: absolute;border-left: 1px solid gray;box-sizing: border-box;top: 0;bottom: 0;left: 50%;z-index: 0;}#sk-container-id-1 div.sk-serial {display: flex;flex-direction: column;align-items: center;background-color: white;padding-right: 0.2em;padding-left: 0.2em;position: relative;}#sk-container-id-1 div.sk-item {position: relative;z-index: 1;}#sk-container-id-1 div.sk-parallel {display: flex;align-items: stretch;justify-content: center;background-color: white;position: relative;}#sk-container-id-1 div.sk-item::before, #sk-container-id-1 div.sk-parallel-item::before {content: \"\";position: absolute;border-left: 1px solid gray;box-sizing: border-box;top: 0;bottom: 0;left: 50%;z-index: -1;}#sk-container-id-1 div.sk-parallel-item {display: flex;flex-direction: column;z-index: 1;position: relative;background-color: white;}#sk-container-id-1 div.sk-parallel-item:first-child::after {align-self: flex-end;width: 50%;}#sk-container-id-1 div.sk-parallel-item:last-child::after {align-self: flex-start;width: 50%;}#sk-container-id-1 div.sk-parallel-item:only-child::after {width: 0;}#sk-container-id-1 div.sk-dashed-wrapped {border: 1px dashed gray;margin: 0 0.4em 0.5em 0.4em;box-sizing: border-box;padding-bottom: 0.4em;background-color: white;}#sk-container-id-1 div.sk-label label {font-family: monospace;font-weight: bold;display: inline-block;line-height: 1.2em;}#sk-container-id-1 div.sk-label-container {text-align: center;}#sk-container-id-1 div.sk-container {/* jupyter's `normalize.less` sets `[hidden] { display: none; }` but bootstrap.min.css set `[hidden] { display: none !important; }` so we also need the `!important` here to be able to override the default hidden behavior on the sphinx rendered scikit-learn.org. See: https://github.com/scikit-learn/scikit-learn/issues/21755 */display: inline-block !important;position: relative;}#sk-container-id-1 div.sk-text-repr-fallback {display: none;}</style><div id=\"sk-container-id-1\" class=\"sk-top-container\"><div class=\"sk-text-repr-fallback\"><pre>RandomForestClassifier(random_state=42)</pre><b>In a Jupyter environment, please rerun this cell to show the HTML representation or trust the notebook. <br />On GitHub, the HTML representation is unable to render, please try loading this page with nbviewer.org.</b></div><div class=\"sk-container\" hidden><div class=\"sk-item\"><div class=\"sk-estimator sk-toggleable\"><input class=\"sk-toggleable__control sk-hidden--visually\" id=\"sk-estimator-id-1\" type=\"checkbox\" checked><label for=\"sk-estimator-id-1\" class=\"sk-toggleable__label sk-toggleable__label-arrow\">RandomForestClassifier</label><div class=\"sk-toggleable__content\"><pre>RandomForestClassifier(random_state=42)</pre></div></div></div></div></div>"
      ],
      "text/plain": [
       "RandomForestClassifier(random_state=42)"
      ]
     },
     "execution_count": 9,
     "metadata": {},
     "output_type": "execute_result"
    }
   ],
   "source": [
    "# Dividir el conjunto de datos en entrenamiento y prueba\n",
    "X_train, X_test, y_train, y_test = train_test_split(X, y, test_size=0.2, random_state=42)\n",
    "\n",
    "# Paso 4: Entrenar un modelo de clasificación (usando Random Forest como ejemplo)\n",
    "modelo = RandomForestClassifier(random_state=42)\n",
    "modelo.fit(X_train, y_train)"
   ]
  },
  {
   "cell_type": "code",
   "execution_count": 10,
   "metadata": {
    "colab": {
     "base_uri": "https://localhost:8080/",
     "height": 790
    },
    "id": "oG5GbHgQsXRv",
    "outputId": "3e326900-2eeb-49fc-c864-644324d03eaa"
   },
   "outputs": [
    {
     "name": "stdout",
     "output_type": "stream",
     "text": [
      "\n",
      "Precisión del modelo: 0.61\n"
     ]
    },
    {
     "data": {
      "image/png": "[encoded data removed]",
      "text/plain": [
       "<Figure size 800x600 with 1 Axes>"
      ]
     },
     "metadata": {},
     "output_type": "display_data"
    },
    {
     "name": "stdout",
     "output_type": "stream",
     "text": [
      "\n",
      "Informe de Clasificación:\n",
      "              precision    recall  f1-score   support\n",
      "\n",
      "           N       0.29      0.21      0.24        28\n",
      "           Y       0.71      0.78      0.74        68\n",
      "\n",
      "    accuracy                           0.61        96\n",
      "   macro avg       0.50      0.50      0.49        96\n",
      "weighted avg       0.58      0.61      0.60        96\n",
      "\n"
     ]
    }
   ],
   "source": [
    "# Paso 5: Evaluación del modelo\n",
    "y_pred = modelo.predict(X_test)\n",
    "\n",
    "# Calcular la precisión del modelo\n",
    "precision = accuracy_score(y_test, y_pred)\n",
    "print(f\"\\nPrecisión del modelo: {precision:.2f}\")\n",
    "\n",
    "# Mostrar la matriz de confusión\n",
    "matriz_confusion = confusion_matrix(y_test, y_pred)\n",
    "plt.figure(figsize=(8, 6))\n",
    "sns.heatmap(matriz_confusion, annot=True, fmt='d', cmap='Blues', cbar=False)\n",
    "plt.xlabel('Predicciones')\n",
    "plt.ylabel('Valores reales')\n",
    "plt.title('Matriz de Confusión')\n",
    "plt.show()\n",
    "\n",
    "# Mostrar el informe de clasificación\n",
    "informe_clasificacion = classification_report(y_test, y_pred)\n",
    "print(\"\\nInforme de Clasificación:\")\n",
    "print(informe_clasificacion)"
   ]
  },
  {
   "cell_type": "code",
   "execution_count": 11,
   "metadata": {},
   "outputs": [],
   "source": [
    "# Paso 6: Guardar el modelo entrenado\n",
    "import pickle\n",
    "\n",
    "with open('modelo_prestamo.pkl', 'wb') as archivo_salida:\n",
    "    pickle.dump(modelo, archivo_salida)\n",
    "    \n",
    "# Paso 7: Cargar el modelo entrenado\n",
    "with open('modelo_prestamo.pkl', 'rb') as archivo_entrada:\n",
    "    modelo_cargado = pickle.load(archivo_entrada)\n",
    "    "
   ]
  },
  {
   "cell_type": "markdown",
   "metadata": {},
   "source": [
    "## Ejercicio: Predecir si un préstamo será aprobado o no utilizando otras variables del conjunto de datos\n",
    "### Agregando variables demograficas: Genero, Estado Civil, Educación\n"
   ]
  },
  {
   "cell_type": "code",
   "execution_count": 12,
   "metadata": {},
   "outputs": [],
   "source": [
    "## Convertimos las variables cualitativas a cuantitativas\n",
    "data['Genero'] = data['Genero'].replace({\"Hombre\":0, \"FeHombre\":1})\n",
    "data['Genero']=data['Genero'].astype(int)\n",
    "\n",
    "data['Married'] = data['Married'].replace({\"Si\":1, \"No\":0})\n",
    "data['Married']=data['Married'].astype(int)\n",
    "\n",
    "data[' educacion']=data[' educacion'].replace({\"Graduado\":1,\"Not Graduado\":2})\n",
    "data[' educacion']=data[' educacion'].astype(int)"
   ]
  },
  {
   "cell_type": "code",
   "execution_count": 22,
   "metadata": {},
   "outputs": [
    {
     "data": {
      "text/html": [
       "<style>#sk-container-id-3 {color: black;}#sk-container-id-3 pre{padding: 0;}#sk-container-id-3 div.sk-toggleable {background-color: white;}#sk-container-id-3 label.sk-toggleable__label {cursor: pointer;display: block;width: 100%;margin-bottom: 0;padding: 0.3em;box-sizing: border-box;text-align: center;}#sk-container-id-3 label.sk-toggleable__label-arrow:before {content: \"▸\";float: left;margin-right: 0.25em;color: #696969;}#sk-container-id-3 label.sk-toggleable__label-arrow:hover:before {color: black;}#sk-container-id-3 div.sk-estimator:hover label.sk-toggleable__label-arrow:before {color: black;}#sk-container-id-3 div.sk-toggleable__content {max-height: 0;max-width: 0;overflow: hidden;text-align: left;background-color: #f0f8ff;}#sk-container-id-3 div.sk-toggleable__content pre {margin: 0.2em;color: black;border-radius: 0.25em;background-color: #f0f8ff;}#sk-container-id-3 input.sk-toggleable__control:checked~div.sk-toggleable__content {max-height: 200px;max-width: 100%;overflow: auto;}#sk-container-id-3 input.sk-toggleable__control:checked~label.sk-toggleable__label-arrow:before {content: \"▾\";}#sk-container-id-3 div.sk-estimator input.sk-toggleable__control:checked~label.sk-toggleable__label {background-color: #d4ebff;}#sk-container-id-3 div.sk-label input.sk-toggleable__control:checked~label.sk-toggleable__label {background-color: #d4ebff;}#sk-container-id-3 input.sk-hidden--visually {border: 0;clip: rect(1px 1px 1px 1px);clip: rect(1px, 1px, 1px, 1px);height: 1px;margin: -1px;overflow: hidden;padding: 0;position: absolute;width: 1px;}#sk-container-id-3 div.sk-estimator {font-family: monospace;background-color: #f0f8ff;border: 1px dotted black;border-radius: 0.25em;box-sizing: border-box;margin-bottom: 0.5em;}#sk-container-id-3 div.sk-estimator:hover {background-color: #d4ebff;}#sk-container-id-3 div.sk-parallel-item::after {content: \"\";width: 100%;border-bottom: 1px solid gray;flex-grow: 1;}#sk-container-id-3 div.sk-label:hover label.sk-toggleable__label {background-color: #d4ebff;}#sk-container-id-3 div.sk-serial::before {content: \"\";position: absolute;border-left: 1px solid gray;box-sizing: border-box;top: 0;bottom: 0;left: 50%;z-index: 0;}#sk-container-id-3 div.sk-serial {display: flex;flex-direction: column;align-items: center;background-color: white;padding-right: 0.2em;padding-left: 0.2em;position: relative;}#sk-container-id-3 div.sk-item {position: relative;z-index: 1;}#sk-container-id-3 div.sk-parallel {display: flex;align-items: stretch;justify-content: center;background-color: white;position: relative;}#sk-container-id-3 div.sk-item::before, #sk-container-id-3 div.sk-parallel-item::before {content: \"\";position: absolute;border-left: 1px solid gray;box-sizing: border-box;top: 0;bottom: 0;left: 50%;z-index: -1;}#sk-container-id-3 div.sk-parallel-item {display: flex;flex-direction: column;z-index: 1;position: relative;background-color: white;}#sk-container-id-3 div.sk-parallel-item:first-child::after {align-self: flex-end;width: 50%;}#sk-container-id-3 div.sk-parallel-item:last-child::after {align-self: flex-start;width: 50%;}#sk-container-id-3 div.sk-parallel-item:only-child::after {width: 0;}#sk-container-id-3 div.sk-dashed-wrapped {border: 1px dashed gray;margin: 0 0.4em 0.5em 0.4em;box-sizing: border-box;padding-bottom: 0.4em;background-color: white;}#sk-container-id-3 div.sk-label label {font-family: monospace;font-weight: bold;display: inline-block;line-height: 1.2em;}#sk-container-id-3 div.sk-label-container {text-align: center;}#sk-container-id-3 div.sk-container {/* jupyter's `normalize.less` sets `[hidden] { display: none; }` but bootstrap.min.css set `[hidden] { display: none !important; }` so we also need the `!important` here to be able to override the default hidden behavior on the sphinx rendered scikit-learn.org. See: https://github.com/scikit-learn/scikit-learn/issues/21755 */display: inline-block !important;position: relative;}#sk-container-id-3 div.sk-text-repr-fallback {display: none;}</style><div id=\"sk-container-id-3\" class=\"sk-top-container\"><div class=\"sk-text-repr-fallback\"><pre>RandomForestClassifier(random_state=42)</pre><b>In a Jupyter environment, please rerun this cell to show the HTML representation or trust the notebook. <br />On GitHub, the HTML representation is unable to render, please try loading this page with nbviewer.org.</b></div><div class=\"sk-container\" hidden><div class=\"sk-item\"><div class=\"sk-estimator sk-toggleable\"><input class=\"sk-toggleable__control sk-hidden--visually\" id=\"sk-estimator-id-3\" type=\"checkbox\" checked><label for=\"sk-estimator-id-3\" class=\"sk-toggleable__label sk-toggleable__label-arrow\">RandomForestClassifier</label><div class=\"sk-toggleable__content\"><pre>RandomForestClassifier(random_state=42)</pre></div></div></div></div></div>"
      ],
      "text/plain": [
       "RandomForestClassifier(random_state=42)"
      ]
     },
     "execution_count": 22,
     "metadata": {},
     "output_type": "execute_result"
    }
   ],
   "source": [
    "# Dividir el conjunto de datos en características (X) y etiquetas (y)\n",
    "X1 = data[[\" ingresos_solicitante\", \" ingresos_cosolicitante\", \" monto_prestamo\", 'Genero', 'Married', ' educacion']]\n",
    "y1 = data[' estado_prestamo']\n",
    "# Dividir el conjunto de datos en entrenamiento y prueba\n",
    "X1_train, X1_test, y1_train, y1_test = train_test_split(X1, y1, test_size=0.2, random_state=42)\n",
    "\n",
    "# Entrenar un modelo de clasificación (usando Random Forest como ejemplo)\n",
    "modelo1 = RandomForestClassifier(random_state=42)\n",
    "modelo1.fit(X1_train, y1_train)"
   ]
  },
  {
   "cell_type": "code",
   "execution_count": 23,
   "metadata": {},
   "outputs": [
    {
     "name": "stdout",
     "output_type": "stream",
     "text": [
      "\n",
      "Precisión del modelo: 0.66\n"
     ]
    }
   ],
   "source": [
    "# Evaluación del modelo\n",
    "y1_pred = modelo1.predict(X1_test)\n",
    "# Calcular la precisión del modelo\n",
    "precision1 = accuracy_score(y1_test, y1_pred)\n",
    "print(f\"\\nPrecisión del modelo: {precision1:.2f}\")"
   ]
  },
  {
   "cell_type": "code",
   "execution_count": 43,
   "metadata": {},
   "outputs": [
    {
     "data": {
      "image/png": "[encoded data removed]",
      "text/plain": [
       "<Figure size 800x600 with 1 Axes>"
      ]
     },
     "metadata": {},
     "output_type": "display_data"
    },
    {
     "name": "stdout",
     "output_type": "stream",
     "text": [
      "\n",
      "Informe de Clasificación:\n",
      "              precision    recall  f1-score   support\n",
      "\n",
      "           0       0.35      0.21      0.27        28\n",
      "           1       0.72      0.84      0.78        68\n",
      "\n",
      "    accuracy                           0.66        96\n",
      "   macro avg       0.54      0.53      0.52        96\n",
      "weighted avg       0.61      0.66      0.63        96\n",
      "\n"
     ]
    }
   ],
   "source": [
    "# Mostrar la matriz de confusión\n",
    "matriz_confusion1 = confusion_matrix(y1_test, y1_pred)\n",
    "plt.figure(figsize=(8, 6))\n",
    "sns.heatmap(matriz_confusion1, annot=True, fmt='d', cmap='Reds', cbar=False)\n",
    "plt.xlabel('Predicciones')\n",
    "plt.ylabel('Valores reales')\n",
    "plt.title('Matriz de Confusión con variables demográficas')\n",
    "plt.show()\n",
    "\n",
    "# Mostrar el informe de clasificación\n",
    "informe_clasificacion = classification_report(y1_test, y1_pred)\n",
    "print(\"\\nInforme de Clasificación:\")\n",
    "print(informe_clasificacion)"
   ]
  },
  {
   "cell_type": "markdown",
   "metadata": {},
   "source": [
    "#### Al agregar tres variables más al modelo, podemos apreciar un aumento de 0,05 en la precisión del modelo, pasando de 0.61 a 0.66. De igual forma, en la matriz de confusión pasamos de 59 casos acertados a 63, sin embargo, dado que se agregarons tres variables más, el aumento de la precisión no fue significativo, por ende se insertan mas variables a continuación"
   ]
  },
  {
   "cell_type": "markdown",
   "metadata": {},
   "source": [
    "### Agregando la totalidad de variables del dataset: Genero, Estado Civil, Educación, dependientes,  autoempleado,  historial_crediticio,  area_propiedad"
   ]
  },
  {
   "cell_type": "code",
   "execution_count": 21,
   "metadata": {},
   "outputs": [],
   "source": [
    "## Convertimos las variables cualitativas a cuantitativas\n",
    "data['dependientes']=data['dependientes'].replace({'0':0,'1':1,'2':2,'3+':3})\n",
    "data[' autoempleado']=data[' autoempleado'].replace({'Si':1,'No':2})\n",
    "data[' area_propiedad']=data[' area_propiedad'].replace({'Rural':1,'SemiUrbano':2,'Urbano':3})\n",
    "data['dependientes']=data['dependientes'].astype(int)\n",
    "data[' autoempleado']=data[' autoempleado'].astype(int)\n",
    "data[' autoempleado']=data[' autoempleado'].astype(int)"
   ]
  },
  {
   "cell_type": "code",
   "execution_count": 30,
   "metadata": {},
   "outputs": [
    {
     "data": {
      "text/html": [
       "<style>#sk-container-id-5 {color: black;}#sk-container-id-5 pre{padding: 0;}#sk-container-id-5 div.sk-toggleable {background-color: white;}#sk-container-id-5 label.sk-toggleable__label {cursor: pointer;display: block;width: 100%;margin-bottom: 0;padding: 0.3em;box-sizing: border-box;text-align: center;}#sk-container-id-5 label.sk-toggleable__label-arrow:before {content: \"▸\";float: left;margin-right: 0.25em;color: #696969;}#sk-container-id-5 label.sk-toggleable__label-arrow:hover:before {color: black;}#sk-container-id-5 div.sk-estimator:hover label.sk-toggleable__label-arrow:before {color: black;}#sk-container-id-5 div.sk-toggleable__content {max-height: 0;max-width: 0;overflow: hidden;text-align: left;background-color: #f0f8ff;}#sk-container-id-5 div.sk-toggleable__content pre {margin: 0.2em;color: black;border-radius: 0.25em;background-color: #f0f8ff;}#sk-container-id-5 input.sk-toggleable__control:checked~div.sk-toggleable__content {max-height: 200px;max-width: 100%;overflow: auto;}#sk-container-id-5 input.sk-toggleable__control:checked~label.sk-toggleable__label-arrow:before {content: \"▾\";}#sk-container-id-5 div.sk-estimator input.sk-toggleable__control:checked~label.sk-toggleable__label {background-color: #d4ebff;}#sk-container-id-5 div.sk-label input.sk-toggleable__control:checked~label.sk-toggleable__label {background-color: #d4ebff;}#sk-container-id-5 input.sk-hidden--visually {border: 0;clip: rect(1px 1px 1px 1px);clip: rect(1px, 1px, 1px, 1px);height: 1px;margin: -1px;overflow: hidden;padding: 0;position: absolute;width: 1px;}#sk-container-id-5 div.sk-estimator {font-family: monospace;background-color: #f0f8ff;border: 1px dotted black;border-radius: 0.25em;box-sizing: border-box;margin-bottom: 0.5em;}#sk-container-id-5 div.sk-estimator:hover {background-color: #d4ebff;}#sk-container-id-5 div.sk-parallel-item::after {content: \"\";width: 100%;border-bottom: 1px solid gray;flex-grow: 1;}#sk-container-id-5 div.sk-label:hover label.sk-toggleable__label {background-color: #d4ebff;}#sk-container-id-5 div.sk-serial::before {content: \"\";position: absolute;border-left: 1px solid gray;box-sizing: border-box;top: 0;bottom: 0;left: 50%;z-index: 0;}#sk-container-id-5 div.sk-serial {display: flex;flex-direction: column;align-items: center;background-color: white;padding-right: 0.2em;padding-left: 0.2em;position: relative;}#sk-container-id-5 div.sk-item {position: relative;z-index: 1;}#sk-container-id-5 div.sk-parallel {display: flex;align-items: stretch;justify-content: center;background-color: white;position: relative;}#sk-container-id-5 div.sk-item::before, #sk-container-id-5 div.sk-parallel-item::before {content: \"\";position: absolute;border-left: 1px solid gray;box-sizing: border-box;top: 0;bottom: 0;left: 50%;z-index: -1;}#sk-container-id-5 div.sk-parallel-item {display: flex;flex-direction: column;z-index: 1;position: relative;background-color: white;}#sk-container-id-5 div.sk-parallel-item:first-child::after {align-self: flex-end;width: 50%;}#sk-container-id-5 div.sk-parallel-item:last-child::after {align-self: flex-start;width: 50%;}#sk-container-id-5 div.sk-parallel-item:only-child::after {width: 0;}#sk-container-id-5 div.sk-dashed-wrapped {border: 1px dashed gray;margin: 0 0.4em 0.5em 0.4em;box-sizing: border-box;padding-bottom: 0.4em;background-color: white;}#sk-container-id-5 div.sk-label label {font-family: monospace;font-weight: bold;display: inline-block;line-height: 1.2em;}#sk-container-id-5 div.sk-label-container {text-align: center;}#sk-container-id-5 div.sk-container {/* jupyter's `normalize.less` sets `[hidden] { display: none; }` but bootstrap.min.css set `[hidden] { display: none !important; }` so we also need the `!important` here to be able to override the default hidden behavior on the sphinx rendered scikit-learn.org. See: https://github.com/scikit-learn/scikit-learn/issues/21755 */display: inline-block !important;position: relative;}#sk-container-id-5 div.sk-text-repr-fallback {display: none;}</style><div id=\"sk-container-id-5\" class=\"sk-top-container\"><div class=\"sk-text-repr-fallback\"><pre>RandomForestClassifier(random_state=42)</pre><b>In a Jupyter environment, please rerun this cell to show the HTML representation or trust the notebook. <br />On GitHub, the HTML representation is unable to render, please try loading this page with nbviewer.org.</b></div><div class=\"sk-container\" hidden><div class=\"sk-item\"><div class=\"sk-estimator sk-toggleable\"><input class=\"sk-toggleable__control sk-hidden--visually\" id=\"sk-estimator-id-5\" type=\"checkbox\" checked><label for=\"sk-estimator-id-5\" class=\"sk-toggleable__label sk-toggleable__label-arrow\">RandomForestClassifier</label><div class=\"sk-toggleable__content\"><pre>RandomForestClassifier(random_state=42)</pre></div></div></div></div></div>"
      ],
      "text/plain": [
       "RandomForestClassifier(random_state=42)"
      ]
     },
     "execution_count": 30,
     "metadata": {},
     "output_type": "execute_result"
    }
   ],
   "source": [
    "# Dividir el conjunto de datos en características (X) y etiquetas (y)\n",
    "X2 = data[[\" ingresos_solicitante\", \" ingresos_cosolicitante\", \" monto_prestamo\", 'Genero', 'Married', ' educacion','dependientes',' autoempleado',' area_propiedad',' plazo_prestamo',' historial_crediticio']]\n",
    "y2 = data[' estado_prestamo']\n",
    "\n",
    "# Dividir el conjunto de datos en entrenamiento y prueba\n",
    "X2_train, X2_test, y2_train, y2_test = train_test_split(X2, y2, test_size=0.2, random_state=42)\n",
    "\n",
    "# Entrenar un modelo de clasificación (usando Random Forest como ejemplo)\n",
    "modelo2 = RandomForestClassifier(random_state=42)\n",
    "modelo2.fit(X2_train, y2_train)"
   ]
  },
  {
   "cell_type": "code",
   "execution_count": 44,
   "metadata": {},
   "outputs": [
    {
     "name": "stdout",
     "output_type": "stream",
     "text": [
      "\n",
      "Precisión del modelo: 0.82\n"
     ]
    },
    {
     "data": {
      "image/png": "[encoded data removed]",
      "text/plain": [
       "<Figure size 800x600 with 1 Axes>"
      ]
     },
     "metadata": {},
     "output_type": "display_data"
    },
    {
     "name": "stdout",
     "output_type": "stream",
     "text": [
      "\n",
      "Informe de Clasificación:\n",
      "              precision    recall  f1-score   support\n",
      "\n",
      "           0       0.82      0.50      0.62        28\n",
      "           1       0.82      0.96      0.88        68\n",
      "\n",
      "    accuracy                           0.82        96\n",
      "   macro avg       0.82      0.73      0.75        96\n",
      "weighted avg       0.82      0.82      0.81        96\n",
      "\n"
     ]
    }
   ],
   "source": [
    "# Evaluación del modelo\n",
    "y2_pred = modelo2.predict(X2_test)\n",
    "\n",
    "# Calcular la precisión del modelo\n",
    "precision2 = accuracy_score(y2_test, y2_pred)\n",
    "print(f\"\\nPrecisión del modelo: {precision2:.2f}\")\n",
    "\n",
    "# Mostrar la matriz de confusión\n",
    "matriz_confusion2 = confusion_matrix(y2_test, y2_pred)\n",
    "plt.figure(figsize=(8, 6))\n",
    "sns.heatmap(matriz_confusion2, annot=True, fmt='d', cmap='Greens', cbar=False)\n",
    "plt.xlabel('Predicciones')\n",
    "plt.ylabel('Valores reales')\n",
    "plt.title('Matriz de Confusión con todas las variables')\n",
    "plt.show()\n",
    "\n",
    "# Mostrar el informe de clasificación\n",
    "informe_clasificacion = classification_report(y2_test, y2_pred)\n",
    "print(\"\\nInforme de Clasificación:\")\n",
    "print(informe_clasificacion)"
   ]
  },
  {
   "cell_type": "markdown",
   "metadata": {},
   "source": [
    "#### Al agregar todas las variables disponibles en el dataset, la precisión del modelo aumento de 0.61 a 0.82, lo que aumenta la confianza en el modelo y nos permite concluir que el involucramiento de mas variables permite una modelo con mejor predicción. Los casos acertados pasaron de 59 a 79 como se observa en las matrices de confusión"
   ]
  },
  {
   "cell_type": "code",
   "execution_count": null,
   "metadata": {},
   "outputs": [],
   "source": []
  }
 ],
 "metadata": {
  "colab": {
   "authorship_tag": "ABX9TyOIRpXfQDZrH+02s7e9ow6y",
   "include_colab_link": true,
   "provenance": []
  },
  "kernelspec": {
   "display_name": "Python 3 (ipykernel)",
   "language": "python",
   "name": "python3"
  },
  "language_info": {
   "codemirror_mode": {
    "name": "ipython",
    "version": 3
   },
   "file_extension": ".py",
   "mimetype": "text/x-python",
   "name": "python",
   "nbconvert_exporter": "python",
   "pygments_lexer": "ipython3",
   "version": "3.11.5"
  }
 },
 "nbformat": 4,
 "nbformat_minor": 1
}
