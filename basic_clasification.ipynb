{
  "cells": [
    {
      "cell_type": "markdown",
      "metadata": {
        "id": "view-in-github",
        "colab_type": "text"
      },
      "source": [
        "<a href=\"https://colab.research.google.com/github/kennyre/eda_couse/blob/main/basic_clasification.ipynb\" target=\"_parent\"><img src=\"https://colab.research.google.com/assets/colab-badge.svg\" alt=\"Open In Colab\"/></a>"
      ]
    },
    {
      "cell_type": "code",
<<<<<<< HEAD
      "execution_count": 79,
=======
      "execution_count": 15,
>>>>>>> 1af2340d8fcb944ffd996de9c916431f083d65c1
      "metadata": {
        "id": "rJdwHr3UnJll"
      },
      "outputs": [],
      "source": [
        "# Importar bibliotecas necesarias\n",
        "import pandas as pd\n",
        "from sklearn.model_selection import train_test_split\n",
        "from sklearn.ensemble import RandomForestClassifier\n",
        "from sklearn.metrics import accuracy_score, classification_report, confusion_matrix\n",
        "import matplotlib.pyplot as plt\n",
        "import seaborn as sns\n",
        "\n",
        "# Paso 1: Cargar el archivo CSV\n",
        "ruta_archivo = 'https://raw.githubusercontent.com/armandoordonez/eda_couse/main/data/prediccion_prestamo_train.csv'  # Reemplaza con la ruta de tu archivo CSV\n",
        "data = pd.read_csv(ruta_archivo)"
      ]
    },
    {
      "cell_type": "code",
<<<<<<< HEAD
      "execution_count": 80,
      "metadata": {},
      "outputs": [],
      "source": [
        "data = pd.DataFrame(data)"
      ]
    },
    {
      "cell_type": "code",
      "execution_count": 81,
=======
      "execution_count": 16,
>>>>>>> 1af2340d8fcb944ffd996de9c916431f083d65c1
      "metadata": {
        "colab": {
          "base_uri": "https://localhost:8080/"
        },
        "id": "T3PObNqLpOgz",
        "outputId": "6a4ccf61-678e-463f-f9b1-7175566332b9"
      },
      "outputs": [
        {
          "output_type": "stream",
          "name": "stdout",
          "text": [
            "Información del conjunto de datos:\n",
            "<class 'pandas.core.frame.DataFrame'>\n",
            "RangeIndex: 614 entries, 0 to 613\n",
            "Data columns (total 13 columns):\n",
            " #   Column                   Non-Null Count  Dtype  \n",
            "---  ------                   --------------  -----  \n",
            " 0   ID                       614 non-null    object \n",
            " 1   Genero                   601 non-null    object \n",
            " 2   Married                  611 non-null    object \n",
            " 3   dependientes             599 non-null    object \n",
            " 4    educacion               614 non-null    object \n",
            " 5    autoempleado            582 non-null    object \n",
            " 6    ingresos_solicitante    614 non-null    int64  \n",
            " 7    ingresos_cosolicitante  614 non-null    float64\n",
            " 8    monto_prestamo          592 non-null    float64\n",
            " 9    plazo_prestamo          600 non-null    float64\n",
            " 10   historial_crediticio    564 non-null    float64\n",
            " 11   area_propiedad          614 non-null    object \n",
            " 12   estado_prestamo         614 non-null    object \n",
            "dtypes: float64(4), int64(1), object(8)\n",
            "memory usage: 62.5+ KB\n",
            "None\n",
            "\n",
            "Estadísticas descriptivas:\n",
            "        ingresos_solicitante   ingresos_cosolicitante   monto_prestamo  \\\n",
            "count             614.000000               614.000000       592.000000   \n",
            "mean             5403.459283              1621.245798       146.412162   \n",
            "std              6109.041673              2926.248369        85.587325   \n",
            "min               150.000000                 0.000000         9.000000   \n",
            "25%              2877.500000                 0.000000       100.000000   \n",
            "50%              3812.500000              1188.500000       128.000000   \n",
            "75%              5795.000000              2297.250000       168.000000   \n",
            "max             81000.000000             41667.000000       700.000000   \n",
            "\n",
            "        plazo_prestamo   historial_crediticio  \n",
            "count        600.00000             564.000000  \n",
            "mean         342.00000               0.842199  \n",
            "std           65.12041               0.364878  \n",
            "min           12.00000               0.000000  \n",
            "25%          360.00000               1.000000  \n",
            "50%          360.00000               1.000000  \n",
            "75%          360.00000               1.000000  \n",
            "max          480.00000               1.000000  \n"
          ]
        }
      ],
      "source": [
        "# Paso 2: Análisis Exploratorio\n",
        "# Puedes imprimir información básica sobre el conjunto de datos\n",
        "print(\"Información del conjunto de datos:\")\n",
        "print(data.info())\n",
        "\n",
        "# Mostrar estadísticas descriptivas\n",
        "print(\"\\nEstadísticas descriptivas:\")\n",
        "print(data.describe())"
      ]
    },
    {
      "cell_type": "code",
<<<<<<< HEAD
      "execution_count": 82,
      "metadata": {},
      "outputs": [
        {
=======
      "source": [
        "data.shape"
      ],
      "metadata": {
        "id": "g8-CyD4Nv1pd",
        "outputId": "8a75afc9-4226-49f3-ab8e-e7d7f7cb705f",
        "colab": {
          "base_uri": "https://localhost:8080/"
        }
      },
      "execution_count": 17,
      "outputs": [
        {
          "output_type": "execute_result",
>>>>>>> 1af2340d8fcb944ffd996de9c916431f083d65c1
          "data": {
            "text/plain": [
              "(614, 13)"
            ]
          },
<<<<<<< HEAD
          "execution_count": 82,
          "metadata": {},
          "output_type": "execute_result"
        }
      ],
      "source": [
        "data.shape"
=======
          "metadata": {},
          "execution_count": 17
        }
>>>>>>> 1af2340d8fcb944ffd996de9c916431f083d65c1
      ]
    },
    {
      "cell_type": "code",
<<<<<<< HEAD
      "execution_count": 83,
      "metadata": {},
      "outputs": [
        {
=======
      "source": [
        "data.isnull().sum()"
      ],
      "metadata": {
        "id": "A9JqNIP9v-ih",
        "outputId": "dee0929e-5edc-4fe3-925d-eeab23f63b67",
        "colab": {
          "base_uri": "https://localhost:8080/"
        }
      },
      "execution_count": 18,
      "outputs": [
        {
          "output_type": "execute_result",
>>>>>>> 1af2340d8fcb944ffd996de9c916431f083d65c1
          "data": {
            "text/plain": [
              "ID                          0\n",
              "Genero                     13\n",
              "Married                     3\n",
              "dependientes               15\n",
              " educacion                  0\n",
              " autoempleado              32\n",
              " ingresos_solicitante       0\n",
              " ingresos_cosolicitante     0\n",
              " monto_prestamo            22\n",
              " plazo_prestamo            14\n",
              " historial_crediticio      50\n",
              " area_propiedad             0\n",
              " estado_prestamo            0\n",
              "dtype: int64"
            ]
          },
<<<<<<< HEAD
          "execution_count": 83,
          "metadata": {},
          "output_type": "execute_result"
        }
      ],
      "source": [
        "data.isnull().sum()"
=======
          "metadata": {},
          "execution_count": 18
        }
>>>>>>> 1af2340d8fcb944ffd996de9c916431f083d65c1
      ]
    },
    {
      "cell_type": "code",
<<<<<<< HEAD
      "execution_count": 84,
=======
      "execution_count": 19,
>>>>>>> 1af2340d8fcb944ffd996de9c916431f083d65c1
      "metadata": {
        "id": "F8j_-Hv1Iv79"
      },
      "outputs": [],
      "source": [
        "data = data.dropna()"
      ]
    },
    {
      "cell_type": "code",
<<<<<<< HEAD
      "execution_count": 85,
      "metadata": {},
      "outputs": [
        {
=======
      "source": [
        "data.shape"
      ],
      "metadata": {
        "id": "_pnIdGBYwBC4",
        "outputId": "785bab1e-15b7-4bf2-a00d-7c9a9ef8083b",
        "colab": {
          "base_uri": "https://localhost:8080/"
        }
      },
      "execution_count": 20,
      "outputs": [
        {
          "output_type": "execute_result",
>>>>>>> 1af2340d8fcb944ffd996de9c916431f083d65c1
          "data": {
            "text/plain": [
              "(480, 13)"
            ]
          },
<<<<<<< HEAD
          "execution_count": 85,
          "metadata": {},
          "output_type": "execute_result"
        }
      ],
      "source": [
        "data.shape"
=======
          "metadata": {},
          "execution_count": 20
        }
>>>>>>> 1af2340d8fcb944ffd996de9c916431f083d65c1
      ]
    },
    {
      "cell_type": "code",
<<<<<<< HEAD
      "execution_count": 86,
=======
      "execution_count": 21,
>>>>>>> 1af2340d8fcb944ffd996de9c916431f083d65c1
      "metadata": {
        "colab": {
          "base_uri": "https://localhost:8080/"
        },
        "id": "GhOnZBblI5-L",
        "outputId": "62fdd358-7a58-4ff0-d298-f99c08a17f5b"
      },
      "outputs": [
        {
          "output_type": "stream",
          "name": "stdout",
          "text": [
            "<class 'pandas.core.frame.DataFrame'>\n",
            "Int64Index: 480 entries, 1 to 613\n",
            "Data columns (total 13 columns):\n",
            " #   Column                   Non-Null Count  Dtype  \n",
            "---  ------                   --------------  -----  \n",
            " 0   ID                       480 non-null    object \n",
            " 1   Genero                   480 non-null    object \n",
            " 2   Married                  480 non-null    object \n",
            " 3   dependientes             480 non-null    object \n",
            " 4    educacion               480 non-null    object \n",
            " 5    autoempleado            480 non-null    object \n",
            " 6    ingresos_solicitante    480 non-null    int64  \n",
            " 7    ingresos_cosolicitante  480 non-null    float64\n",
            " 8    monto_prestamo          480 non-null    float64\n",
            " 9    plazo_prestamo          480 non-null    float64\n",
            " 10   historial_crediticio    480 non-null    float64\n",
            " 11   area_propiedad          480 non-null    object \n",
            " 12   estado_prestamo         480 non-null    object \n",
            "dtypes: float64(4), int64(1), object(8)\n",
            "memory usage: 52.5+ KB\n",
            "None\n"
          ]
        }
      ],
      "source": [
        "print(data.info())"
      ]
    },
    {
      "cell_type": "code",
<<<<<<< HEAD
      "execution_count": 87,
=======
      "execution_count": 22,
>>>>>>> 1af2340d8fcb944ffd996de9c916431f083d65c1
      "metadata": {
        "colab": {
          "base_uri": "https://localhost:8080/",
          "height": 278
        },
        "id": "ZSRUSuzzplsy",
        "outputId": "ded90f26-9f0b-4015-aef2-4872c60ebc67"
      },
      "outputs": [
        {
          "output_type": "stream",
          "name": "stdout",
          "text": [
            "\n",
            "Primeras filas del conjunto de datos:\n"
          ]
        },
        {
          "output_type": "execute_result",
          "data": {
            "text/plain": [
              "         ID  Genero Married dependientes     educacion  autoempleado  \\\n",
              "1  LP001003  Hombre      Si            1      Graduado            No   \n",
              "2  LP001005  Hombre      Si            0      Graduado            Si   \n",
              "3  LP001006  Hombre      Si            0  Not Graduado            No   \n",
              "4  LP001008  Hombre      No            0      Graduado            No   \n",
              "5  LP001011  Hombre      Si            2      Graduado            Si   \n",
              "\n",
              "    ingresos_solicitante   ingresos_cosolicitante   monto_prestamo  \\\n",
              "1                   4583                   1508.0            128.0   \n",
              "2                   3000                      0.0             66.0   \n",
              "3                   2583                   2358.0            120.0   \n",
              "4                   6000                      0.0            141.0   \n",
              "5                   5417                   4196.0            267.0   \n",
              "\n",
              "    plazo_prestamo   historial_crediticio  area_propiedad  estado_prestamo  \n",
              "1            360.0                    1.0           Rural                N  \n",
              "2            360.0                    1.0          Urbano                Y  \n",
              "3            360.0                    1.0          Urbano                Y  \n",
              "4            360.0                    1.0          Urbano                Y  \n",
              "5            360.0                    1.0          Urbano                Y  "
            ],
            "text/html": [
              "\n",
              "  <div id=\"df-a336f5b9-c3c6-4091-a284-19f1f24ee23b\" class=\"colab-df-container\">\n",
              "    <div>\n",
              "<style scoped>\n",
              "    .dataframe tbody tr th:only-of-type {\n",
              "        vertical-align: middle;\n",
              "    }\n",
              "\n",
              "    .dataframe tbody tr th {\n",
              "        vertical-align: top;\n",
              "    }\n",
              "\n",
              "    .dataframe thead th {\n",
              "        text-align: right;\n",
              "    }\n",
              "</style>\n",
              "<table border=\"1\" class=\"dataframe\">\n",
              "  <thead>\n",
              "    <tr style=\"text-align: right;\">\n",
              "      <th></th>\n",
              "      <th>ID</th>\n",
              "      <th>Genero</th>\n",
              "      <th>Married</th>\n",
              "      <th>dependientes</th>\n",
              "      <th>educacion</th>\n",
              "      <th>autoempleado</th>\n",
              "      <th>ingresos_solicitante</th>\n",
              "      <th>ingresos_cosolicitante</th>\n",
              "      <th>monto_prestamo</th>\n",
              "      <th>plazo_prestamo</th>\n",
              "      <th>historial_crediticio</th>\n",
              "      <th>area_propiedad</th>\n",
              "      <th>estado_prestamo</th>\n",
              "    </tr>\n",
              "  </thead>\n",
              "  <tbody>\n",
              "    <tr>\n",
              "      <th>1</th>\n",
              "      <td>LP001003</td>\n",
              "      <td>Hombre</td>\n",
              "      <td>Si</td>\n",
              "      <td>1</td>\n",
              "      <td>Graduado</td>\n",
              "      <td>No</td>\n",
              "      <td>4583</td>\n",
              "      <td>1508.0</td>\n",
              "      <td>128.0</td>\n",
              "      <td>360.0</td>\n",
              "      <td>1.0</td>\n",
              "      <td>Rural</td>\n",
              "      <td>N</td>\n",
              "    </tr>\n",
              "    <tr>\n",
              "      <th>2</th>\n",
              "      <td>LP001005</td>\n",
              "      <td>Hombre</td>\n",
              "      <td>Si</td>\n",
              "      <td>0</td>\n",
              "      <td>Graduado</td>\n",
              "      <td>Si</td>\n",
              "      <td>3000</td>\n",
              "      <td>0.0</td>\n",
              "      <td>66.0</td>\n",
              "      <td>360.0</td>\n",
              "      <td>1.0</td>\n",
              "      <td>Urbano</td>\n",
              "      <td>Y</td>\n",
              "    </tr>\n",
              "    <tr>\n",
              "      <th>3</th>\n",
              "      <td>LP001006</td>\n",
              "      <td>Hombre</td>\n",
              "      <td>Si</td>\n",
              "      <td>0</td>\n",
              "      <td>Not Graduado</td>\n",
              "      <td>No</td>\n",
              "      <td>2583</td>\n",
              "      <td>2358.0</td>\n",
              "      <td>120.0</td>\n",
              "      <td>360.0</td>\n",
              "      <td>1.0</td>\n",
              "      <td>Urbano</td>\n",
              "      <td>Y</td>\n",
              "    </tr>\n",
              "    <tr>\n",
              "      <th>4</th>\n",
              "      <td>LP001008</td>\n",
              "      <td>Hombre</td>\n",
              "      <td>No</td>\n",
              "      <td>0</td>\n",
              "      <td>Graduado</td>\n",
              "      <td>No</td>\n",
              "      <td>6000</td>\n",
              "      <td>0.0</td>\n",
              "      <td>141.0</td>\n",
              "      <td>360.0</td>\n",
              "      <td>1.0</td>\n",
              "      <td>Urbano</td>\n",
              "      <td>Y</td>\n",
              "    </tr>\n",
              "    <tr>\n",
              "      <th>5</th>\n",
              "      <td>LP001011</td>\n",
              "      <td>Hombre</td>\n",
              "      <td>Si</td>\n",
              "      <td>2</td>\n",
              "      <td>Graduado</td>\n",
              "      <td>Si</td>\n",
              "      <td>5417</td>\n",
              "      <td>4196.0</td>\n",
              "      <td>267.0</td>\n",
              "      <td>360.0</td>\n",
              "      <td>1.0</td>\n",
              "      <td>Urbano</td>\n",
              "      <td>Y</td>\n",
              "    </tr>\n",
              "    <tr>\n",
              "      <th>6</th>\n",
              "      <td>LP001013</td>\n",
              "      <td>Hombre</td>\n",
              "      <td>Si</td>\n",
              "      <td>0</td>\n",
              "      <td>Not Graduado</td>\n",
              "      <td>No</td>\n",
              "      <td>2333</td>\n",
              "      <td>1516.0</td>\n",
              "      <td>95.0</td>\n",
              "      <td>360.0</td>\n",
              "      <td>1.0</td>\n",
              "      <td>Urbano</td>\n",
              "      <td>Y</td>\n",
              "    </tr>\n",
              "    <tr>\n",
              "      <th>7</th>\n",
              "      <td>LP001014</td>\n",
              "      <td>Hombre</td>\n",
              "      <td>Si</td>\n",
              "      <td>3+</td>\n",
              "      <td>Graduado</td>\n",
              "      <td>No</td>\n",
              "      <td>3036</td>\n",
              "      <td>2504.0</td>\n",
              "      <td>158.0</td>\n",
              "      <td>360.0</td>\n",
              "      <td>0.0</td>\n",
              "      <td>SemiUrbano</td>\n",
              "      <td>N</td>\n",
              "    </tr>\n",
              "    <tr>\n",
              "      <th>8</th>\n",
              "      <td>LP001018</td>\n",
              "      <td>Hombre</td>\n",
              "      <td>Si</td>\n",
              "      <td>2</td>\n",
              "      <td>Graduado</td>\n",
              "      <td>No</td>\n",
              "      <td>4006</td>\n",
              "      <td>1526.0</td>\n",
              "      <td>168.0</td>\n",
              "      <td>360.0</td>\n",
              "      <td>1.0</td>\n",
              "      <td>Urbano</td>\n",
              "      <td>Y</td>\n",
              "    </tr>\n",
              "    <tr>\n",
              "      <th>9</th>\n",
              "      <td>LP001020</td>\n",
              "      <td>Hombre</td>\n",
              "      <td>Si</td>\n",
              "      <td>1</td>\n",
              "      <td>Graduado</td>\n",
              "      <td>No</td>\n",
              "      <td>12841</td>\n",
              "      <td>10968.0</td>\n",
              "      <td>349.0</td>\n",
              "      <td>360.0</td>\n",
              "      <td>1.0</td>\n",
              "      <td>SemiUrbano</td>\n",
              "      <td>N</td>\n",
              "    </tr>\n",
              "    <tr>\n",
              "      <th>10</th>\n",
              "      <td>LP001024</td>\n",
              "      <td>Hombre</td>\n",
              "      <td>Si</td>\n",
              "      <td>2</td>\n",
              "      <td>Graduado</td>\n",
              "      <td>No</td>\n",
              "      <td>3200</td>\n",
              "      <td>700.0</td>\n",
              "      <td>70.0</td>\n",
              "      <td>360.0</td>\n",
              "      <td>1.0</td>\n",
              "      <td>Urbano</td>\n",
              "      <td>Y</td>\n",
              "    </tr>\n",
              "  </tbody>\n",
              "</table>\n",
              "</div>\n",
              "    <div class=\"colab-df-buttons\">\n",
              "\n",
              "  <div class=\"colab-df-container\">\n",
              "    <button class=\"colab-df-convert\" onclick=\"convertToInteractive('df-a336f5b9-c3c6-4091-a284-19f1f24ee23b')\"\n",
              "            title=\"Convert this dataframe to an interactive table.\"\n",
              "            style=\"display:none;\">\n",
              "\n",
              "  <svg xmlns=\"http://www.w3.org/2000/svg\" height=\"24px\" viewBox=\"0 -960 960 960\">\n",
              "    <path d=\"M120-120v-720h720v720H120Zm60-500h600v-160H180v160Zm220 220h160v-160H400v160Zm0 220h160v-160H400v160ZM180-400h160v-160H180v160Zm440 0h160v-160H620v160ZM180-180h160v-160H180v160Zm440 0h160v-160H620v160Z\"/>\n",
              "  </svg>\n",
              "    </button>\n",
              "\n",
              "  <style>\n",
              "    .colab-df-container {\n",
              "      display:flex;\n",
              "      gap: 12px;\n",
              "    }\n",
              "\n",
              "    .colab-df-convert {\n",
              "      background-color: #E8F0FE;\n",
              "      border: none;\n",
              "      border-radius: 50%;\n",
              "      cursor: pointer;\n",
              "      display: none;\n",
              "      fill: #1967D2;\n",
              "      height: 32px;\n",
              "      padding: 0 0 0 0;\n",
              "      width: 32px;\n",
              "    }\n",
              "\n",
              "    .colab-df-convert:hover {\n",
              "      background-color: #E2EBFA;\n",
              "      box-shadow: 0px 1px 2px rgba(60, 64, 67, 0.3), 0px 1px 3px 1px rgba(60, 64, 67, 0.15);\n",
              "      fill: #174EA6;\n",
              "    }\n",
              "\n",
              "    .colab-df-buttons div {\n",
              "      margin-bottom: 4px;\n",
              "    }\n",
              "\n",
              "    [theme=dark] .colab-df-convert {\n",
              "      background-color: #3B4455;\n",
              "      fill: #D2E3FC;\n",
              "    }\n",
              "\n",
              "    [theme=dark] .colab-df-convert:hover {\n",
              "      background-color: #434B5C;\n",
              "      box-shadow: 0px 1px 3px 1px rgba(0, 0, 0, 0.15);\n",
              "      filter: drop-shadow(0px 1px 2px rgba(0, 0, 0, 0.3));\n",
              "      fill: #FFFFFF;\n",
              "    }\n",
              "  </style>\n",
              "\n",
              "    <script>\n",
              "      const buttonEl =\n",
              "        document.querySelector('#df-a336f5b9-c3c6-4091-a284-19f1f24ee23b button.colab-df-convert');\n",
              "      buttonEl.style.display =\n",
              "        google.colab.kernel.accessAllowed ? 'block' : 'none';\n",
              "\n",
              "      async function convertToInteractive(key) {\n",
              "        const element = document.querySelector('#df-a336f5b9-c3c6-4091-a284-19f1f24ee23b');\n",
              "        const dataTable =\n",
              "          await google.colab.kernel.invokeFunction('convertToInteractive',\n",
              "                                                    [key], {});\n",
              "        if (!dataTable) return;\n",
              "\n",
              "        const docLinkHtml = 'Like what you see? Visit the ' +\n",
              "          '<a target=\"_blank\" href=https://colab.research.google.com/notebooks/data_table.ipynb>data table notebook</a>'\n",
              "          + ' to learn more about interactive tables.';\n",
              "        element.innerHTML = '';\n",
              "        dataTable['output_type'] = 'display_data';\n",
              "        await google.colab.output.renderOutput(dataTable, element);\n",
              "        const docLink = document.createElement('div');\n",
              "        docLink.innerHTML = docLinkHtml;\n",
              "        element.appendChild(docLink);\n",
              "      }\n",
              "    </script>\n",
              "  </div>\n",
              "\n",
              "\n",
              "<div id=\"df-27dfdfff-7772-467c-8ed8-3a151b647c1f\">\n",
              "  <button class=\"colab-df-quickchart\" onclick=\"quickchart('df-27dfdfff-7772-467c-8ed8-3a151b647c1f')\"\n",
              "            title=\"Suggest charts\"\n",
              "            style=\"display:none;\">\n",
              "\n",
              "<svg xmlns=\"http://www.w3.org/2000/svg\" height=\"24px\"viewBox=\"0 0 24 24\"\n",
              "     width=\"24px\">\n",
              "    <g>\n",
              "        <path d=\"M19 3H5c-1.1 0-2 .9-2 2v14c0 1.1.9 2 2 2h14c1.1 0 2-.9 2-2V5c0-1.1-.9-2-2-2zM9 17H7v-7h2v7zm4 0h-2V7h2v10zm4 0h-2v-4h2v4z\"/>\n",
              "    </g>\n",
              "</svg>\n",
              "  </button>\n",
              "\n",
              "<style>\n",
              "  .colab-df-quickchart {\n",
              "      --bg-color: #E8F0FE;\n",
              "      --fill-color: #1967D2;\n",
              "      --hover-bg-color: #E2EBFA;\n",
              "      --hover-fill-color: #174EA6;\n",
              "      --disabled-fill-color: #AAA;\n",
              "      --disabled-bg-color: #DDD;\n",
              "  }\n",
              "\n",
              "  [theme=dark] .colab-df-quickchart {\n",
              "      --bg-color: #3B4455;\n",
              "      --fill-color: #D2E3FC;\n",
              "      --hover-bg-color: #434B5C;\n",
              "      --hover-fill-color: #FFFFFF;\n",
              "      --disabled-bg-color: #3B4455;\n",
              "      --disabled-fill-color: #666;\n",
              "  }\n",
              "\n",
              "  .colab-df-quickchart {\n",
              "    background-color: var(--bg-color);\n",
              "    border: none;\n",
              "    border-radius: 50%;\n",
              "    cursor: pointer;\n",
              "    display: none;\n",
              "    fill: var(--fill-color);\n",
              "    height: 32px;\n",
              "    padding: 0;\n",
              "    width: 32px;\n",
              "  }\n",
              "\n",
              "  .colab-df-quickchart:hover {\n",
              "    background-color: var(--hover-bg-color);\n",
              "    box-shadow: 0 1px 2px rgba(60, 64, 67, 0.3), 0 1px 3px 1px rgba(60, 64, 67, 0.15);\n",
              "    fill: var(--button-hover-fill-color);\n",
              "  }\n",
              "\n",
              "  .colab-df-quickchart-complete:disabled,\n",
              "  .colab-df-quickchart-complete:disabled:hover {\n",
              "    background-color: var(--disabled-bg-color);\n",
              "    fill: var(--disabled-fill-color);\n",
              "    box-shadow: none;\n",
              "  }\n",
              "\n",
              "  .colab-df-spinner {\n",
              "    border: 2px solid var(--fill-color);\n",
              "    border-color: transparent;\n",
              "    border-bottom-color: var(--fill-color);\n",
              "    animation:\n",
              "      spin 1s steps(1) infinite;\n",
              "  }\n",
              "\n",
              "  @keyframes spin {\n",
              "    0% {\n",
              "      border-color: transparent;\n",
              "      border-bottom-color: var(--fill-color);\n",
              "      border-left-color: var(--fill-color);\n",
              "    }\n",
              "    20% {\n",
              "      border-color: transparent;\n",
              "      border-left-color: var(--fill-color);\n",
              "      border-top-color: var(--fill-color);\n",
              "    }\n",
              "    30% {\n",
              "      border-color: transparent;\n",
              "      border-left-color: var(--fill-color);\n",
              "      border-top-color: var(--fill-color);\n",
              "      border-right-color: var(--fill-color);\n",
              "    }\n",
              "    40% {\n",
              "      border-color: transparent;\n",
              "      border-right-color: var(--fill-color);\n",
              "      border-top-color: var(--fill-color);\n",
              "    }\n",
              "    60% {\n",
              "      border-color: transparent;\n",
              "      border-right-color: var(--fill-color);\n",
              "    }\n",
              "    80% {\n",
              "      border-color: transparent;\n",
              "      border-right-color: var(--fill-color);\n",
              "      border-bottom-color: var(--fill-color);\n",
              "    }\n",
              "    90% {\n",
              "      border-color: transparent;\n",
              "      border-bottom-color: var(--fill-color);\n",
              "    }\n",
              "  }\n",
              "</style>\n",
              "\n",
              "  <script>\n",
              "    async function quickchart(key) {\n",
              "      const quickchartButtonEl =\n",
              "        document.querySelector('#' + key + ' button');\n",
              "      quickchartButtonEl.disabled = true;  // To prevent multiple clicks.\n",
              "      quickchartButtonEl.classList.add('colab-df-spinner');\n",
              "      try {\n",
              "        const charts = await google.colab.kernel.invokeFunction(\n",
              "            'suggestCharts', [key], {});\n",
              "      } catch (error) {\n",
              "        console.error('Error during call to suggestCharts:', error);\n",
              "      }\n",
              "      quickchartButtonEl.classList.remove('colab-df-spinner');\n",
              "      quickchartButtonEl.classList.add('colab-df-quickchart-complete');\n",
              "    }\n",
              "    (() => {\n",
              "      let quickchartButtonEl =\n",
              "        document.querySelector('#df-27dfdfff-7772-467c-8ed8-3a151b647c1f button');\n",
              "      quickchartButtonEl.style.display =\n",
              "        google.colab.kernel.accessAllowed ? 'block' : 'none';\n",
              "    })();\n",
              "  </script>\n",
              "</div>\n",
              "\n",
              "    </div>\n",
              "  </div>\n"
            ],
<<<<<<< HEAD
            "text/plain": [
              "          ID  Genero Married dependientes     educacion  autoempleado  \\\n",
              "1   LP001003  Hombre      Si            1      Graduado            No   \n",
              "2   LP001005  Hombre      Si            0      Graduado            Si   \n",
              "3   LP001006  Hombre      Si            0  Not Graduado            No   \n",
              "4   LP001008  Hombre      No            0      Graduado            No   \n",
              "5   LP001011  Hombre      Si            2      Graduado            Si   \n",
              "6   LP001013  Hombre      Si            0  Not Graduado            No   \n",
              "7   LP001014  Hombre      Si           3+      Graduado            No   \n",
              "8   LP001018  Hombre      Si            2      Graduado            No   \n",
              "9   LP001020  Hombre      Si            1      Graduado            No   \n",
              "10  LP001024  Hombre      Si            2      Graduado            No   \n",
              "\n",
              "     ingresos_solicitante   ingresos_cosolicitante   monto_prestamo  \\\n",
              "1                    4583                   1508.0            128.0   \n",
              "2                    3000                      0.0             66.0   \n",
              "3                    2583                   2358.0            120.0   \n",
              "4                    6000                      0.0            141.0   \n",
              "5                    5417                   4196.0            267.0   \n",
              "6                    2333                   1516.0             95.0   \n",
              "7                    3036                   2504.0            158.0   \n",
              "8                    4006                   1526.0            168.0   \n",
              "9                   12841                  10968.0            349.0   \n",
              "10                   3200                    700.0             70.0   \n",
              "\n",
              "     plazo_prestamo   historial_crediticio  area_propiedad  estado_prestamo  \n",
              "1             360.0                    1.0           Rural                N  \n",
              "2             360.0                    1.0          Urbano                Y  \n",
              "3             360.0                    1.0          Urbano                Y  \n",
              "4             360.0                    1.0          Urbano                Y  \n",
              "5             360.0                    1.0          Urbano                Y  \n",
              "6             360.0                    1.0          Urbano                Y  \n",
              "7             360.0                    0.0      SemiUrbano                N  \n",
              "8             360.0                    1.0          Urbano                Y  \n",
              "9             360.0                    1.0      SemiUrbano                N  \n",
              "10            360.0                    1.0          Urbano                Y  "
            ]
          },
          "execution_count": 87,
=======
            "application/vnd.google.colaboratory.intrinsic+json": {
              "type": "dataframe",
              "variable_name": "data",
              "summary": "{\n  \"name\": \"data\",\n  \"rows\": 480,\n  \"fields\": [\n    {\n      \"column\": \"ID\",\n      \"properties\": {\n        \"dtype\": \"string\",\n        \"num_unique_values\": 480,\n        \"samples\": [\n          \"LP001319\",\n          \"LP002716\",\n          \"LP002622\"\n        ],\n        \"semantic_type\": \"\",\n        \"description\": \"\"\n      }\n    },\n    {\n      \"column\": \"Genero\",\n      \"properties\": {\n        \"dtype\": \"category\",\n        \"num_unique_values\": 2,\n        \"samples\": [\n          \"FeHombre\",\n          \"Hombre\"\n        ],\n        \"semantic_type\": \"\",\n        \"description\": \"\"\n      }\n    },\n    {\n      \"column\": \"Married\",\n      \"properties\": {\n        \"dtype\": \"category\",\n        \"num_unique_values\": 2,\n        \"samples\": [\n          \"No\",\n          \"Si\"\n        ],\n        \"semantic_type\": \"\",\n        \"description\": \"\"\n      }\n    },\n    {\n      \"column\": \"dependientes\",\n      \"properties\": {\n        \"dtype\": \"category\",\n        \"num_unique_values\": 4,\n        \"samples\": [\n          \"0\",\n          \"3+\"\n        ],\n        \"semantic_type\": \"\",\n        \"description\": \"\"\n      }\n    },\n    {\n      \"column\": \" educacion\",\n      \"properties\": {\n        \"dtype\": \"category\",\n        \"num_unique_values\": 2,\n        \"samples\": [\n          \"Not Graduado\",\n          \"Graduado\"\n        ],\n        \"semantic_type\": \"\",\n        \"description\": \"\"\n      }\n    },\n    {\n      \"column\": \" autoempleado\",\n      \"properties\": {\n        \"dtype\": \"category\",\n        \"num_unique_values\": 2,\n        \"samples\": [\n          \"Si\",\n          \"No\"\n        ],\n        \"semantic_type\": \"\",\n        \"description\": \"\"\n      }\n    },\n    {\n      \"column\": \" ingresos_solicitante\",\n      \"properties\": {\n        \"dtype\": \"number\",\n        \"std\": 5668,\n        \"min\": 150,\n        \"max\": 81000,\n        \"num_unique_values\": 405,\n        \"samples\": [\n          2484,\n          3717\n        ],\n        \"semantic_type\": \"\",\n        \"description\": \"\"\n      }\n    },\n    {\n      \"column\": \" ingresos_cosolicitante\",\n      \"properties\": {\n        \"dtype\": \"number\",\n        \"std\": 2617.6922669225105,\n        \"min\": 0.0,\n        \"max\": 33837.0,\n        \"num_unique_values\": 232,\n        \"samples\": [\n          2064.0,\n          2083.0\n        ],\n        \"semantic_type\": \"\",\n        \"description\": \"\"\n      }\n    },\n    {\n      \"column\": \" monto_prestamo\",\n      \"properties\": {\n        \"dtype\": \"number\",\n        \"std\": 80.50816421360777,\n        \"min\": 9.0,\n        \"max\": 600.0,\n        \"num_unique_values\": 186,\n        \"samples\": [\n          192.0,\n          208.0\n        ],\n        \"semantic_type\": \"\",\n        \"description\": \"\"\n      }\n    },\n    {\n      \"column\": \" plazo_prestamo\",\n      \"properties\": {\n        \"dtype\": \"number\",\n        \"std\": 65.21240068043208,\n        \"min\": 36.0,\n        \"max\": 480.0,\n        \"num_unique_values\": 9,\n        \"samples\": [\n          36.0,\n          120.0\n        ],\n        \"semantic_type\": \"\",\n        \"description\": \"\"\n      }\n    },\n    {\n      \"column\": \" historial_crediticio\",\n      \"properties\": {\n        \"dtype\": \"number\",\n        \"std\": 0.3533072691637982,\n        \"min\": 0.0,\n        \"max\": 1.0,\n        \"num_unique_values\": 2,\n        \"samples\": [\n          0.0,\n          1.0\n        ],\n        \"semantic_type\": \"\",\n        \"description\": \"\"\n      }\n    },\n    {\n      \"column\": \" area_propiedad\",\n      \"properties\": {\n        \"dtype\": \"category\",\n        \"num_unique_values\": 3,\n        \"samples\": [\n          \"Rural\",\n          \"Urbano\"\n        ],\n        \"semantic_type\": \"\",\n        \"description\": \"\"\n      }\n    },\n    {\n      \"column\": \" estado_prestamo\",\n      \"properties\": {\n        \"dtype\": \"category\",\n        \"num_unique_values\": 2,\n        \"samples\": [\n          \"Y\",\n          \"N\"\n        ],\n        \"semantic_type\": \"\",\n        \"description\": \"\"\n      }\n    }\n  ]\n}"
            }
          },
>>>>>>> 1af2340d8fcb944ffd996de9c916431f083d65c1
          "metadata": {},
          "execution_count": 22
        }
      ],
      "source": [
        "# Visualizar las primeras filas del conjunto de datos\n",
        "print(\"\\nPrimeras filas del conjunto de datos:\")\n",
        "data.head(10)"
      ]
    },
    {
      "cell_type": "code",
<<<<<<< HEAD
      "execution_count": 88,
      "metadata": {},
      "outputs": [
        {
=======
      "source": [
        "data['Married'].unique()"
      ],
      "metadata": {
        "id": "jIP1huYdwKv5",
        "outputId": "36395ed5-4fa0-44b4-dc62-9cb0068ab94d",
        "colab": {
          "base_uri": "https://localhost:8080/"
        }
      },
      "execution_count": 23,
      "outputs": [
        {
          "output_type": "execute_result",
>>>>>>> 1af2340d8fcb944ffd996de9c916431f083d65c1
          "data": {
            "text/plain": [
              "array(['Si', 'No'], dtype=object)"
            ]
          },
<<<<<<< HEAD
          "execution_count": 88,
          "metadata": {},
          "output_type": "execute_result"
        }
      ],
      "source": [
        "data['Married'].unique()"
=======
          "metadata": {},
          "execution_count": 23
        }
>>>>>>> 1af2340d8fcb944ffd996de9c916431f083d65c1
      ]
    },
    {
      "cell_type": "code",
<<<<<<< HEAD
      "execution_count": 89,
=======
      "source": [
        "data[' estado_prestamo'].unique()"
      ],
      "metadata": {
        "id": "kD_qTBkYwPQF",
        "outputId": "042f2d9d-f90d-443f-bb90-29bf0dc9d09f",
        "colab": {
          "base_uri": "https://localhost:8080/"
        }
      },
      "execution_count": 24,
      "outputs": [
        {
          "output_type": "execute_result",
          "data": {
            "text/plain": [
              "array(['N', 'Y'], dtype=object)"
            ]
          },
          "metadata": {},
          "execution_count": 24
        }
      ]
    },
    {
      "cell_type": "code",
      "execution_count": 25,
>>>>>>> 1af2340d8fcb944ffd996de9c916431f083d65c1
      "metadata": {
        "id": "V7D5Vuz-q4ID"
      },
      "outputs": [],
      "source": []
    },
    {
      "cell_type": "code",
      "execution_count": 90,
      "metadata": {},
      "outputs": [
        {
          "data": {
            "text/plain": [
              "array(['N', 'Y'], dtype=object)"
            ]
          },
          "execution_count": 90,
          "metadata": {},
          "output_type": "execute_result"
        }
      ],
      "source": [
        "data[' estado_prestamo'].unique()"
      ]
    },
    {
      "cell_type": "code",
<<<<<<< HEAD
      "execution_count": 91,
=======
      "execution_count": 26,
>>>>>>> 1af2340d8fcb944ffd996de9c916431f083d65c1
      "metadata": {
        "colab": {
          "base_uri": "https://localhost:8080/"
        },
        "id": "g7mRY2EcJQLe",
        "outputId": "fab9cf30-0dd5-444c-b110-f45cbb666151"
      },
      "outputs": [
        {
          "output_type": "stream",
          "name": "stdout",
          "text": [
            "<class 'pandas.core.frame.DataFrame'>\n",
<<<<<<< HEAD
            "Index: 480 entries, 1 to 613\n",
            "Data columns (total 4 columns):\n",
=======
            "Int64Index: 480 entries, 1 to 613\n",
            "Data columns (total 3 columns):\n",
>>>>>>> 1af2340d8fcb944ffd996de9c916431f083d65c1
            " #   Column                   Non-Null Count  Dtype  \n",
            "---  ------                   --------------  -----  \n",
            " 0    ingresos_solicitante    480 non-null    int64  \n",
            " 1    ingresos_cosolicitante  480 non-null    float64\n",
            " 2    monto_prestamo          480 non-null    float64\n",
            " 3   Married                  480 non-null    object \n",
            "dtypes: float64(2), int64(1), object(1)\n",
            "memory usage: 18.8+ KB\n",
            "None\n"
          ]
        }
      ],
      "source": [
        "print(X.info())"
      ]
    },
    {
      "cell_type": "code",
<<<<<<< HEAD
      "execution_count": 92,
      "metadata": {},
      "outputs": [],
      "source": []
    },
    {
      "cell_type": "code",
      "execution_count": 93,
=======
      "execution_count": 28,
>>>>>>> 1af2340d8fcb944ffd996de9c916431f083d65c1
      "metadata": {
        "id": "P1-FzidzJWwj"
      },
      "outputs": [],
      "source": [
        "data[' estado_prestamo'] = data[' estado_prestamo'].replace({\"Y\": 1, \"N\": 0})\n",
        "data[' estado_prestamo'] = data[' estado_prestamo'].astype(int)"
      ]
    },
    {
      "cell_type": "code",
<<<<<<< HEAD
      "execution_count": 98,
      "metadata": {},
      "outputs": [],
      "source": [
        "data['Married'] = data['Married'].replace({\"Si\": 1, \"No\": 0})\n",
        "data['Married'] = data['Married'].astype(int)"
      ]
    },
    {
      "cell_type": "code",
      "execution_count": 101,
      "metadata": {},
      "outputs": [],
      "source": [
        "# Paso 3: Dividir el conjunto de datos en características (X) y etiquetas (y)\n",
        "X = data[[\" ingresos_solicitante\",\" ingresos_cosolicitante\",\" monto_prestamo\", \"Married\"]]\n",
        "y = data[' estado_prestamo']"
      ]
    },
    {
      "cell_type": "code",
      "execution_count": null,
      "metadata": {},
      "outputs": [],
      "source": []
    },
    {
      "cell_type": "code",
      "execution_count": 94,
      "metadata": {},
      "outputs": [
        {
          "data": {
            "text/html": [
              "<div>\n",
=======
      "source": [
        "data['Married'] = data['Married'].replace({\"Si\": 1, \"No\": 0})\n",
        "data['Married'] = data['Married'].astype(int)"
      ],
      "metadata": {
        "id": "bae7oJAswwLJ"
      },
      "execution_count": 29,
      "outputs": []
    },
    {
      "cell_type": "code",
      "source": [
        "X = data[[\" ingresos_solicitante\",\" ingresos_cosolicitante\",\" monto_prestamo\", \"Married\"]]\n",
        "y = data[' estado_prestamo']"
      ],
      "metadata": {
        "id": "0pHlbzRKwzlM"
      },
      "execution_count": 30,
      "outputs": []
    },
    {
      "cell_type": "code",
      "source": [
        "data.head(5)"
      ],
      "metadata": {
        "id": "GdJWFjJ5w1h7",
        "outputId": "ada30beb-0bd1-477c-af2c-397d8112e135",
        "colab": {
          "base_uri": "https://localhost:8080/",
          "height": 243
        }
      },
      "execution_count": 31,
      "outputs": [
        {
          "output_type": "execute_result",
          "data": {
            "text/plain": [
              "         ID  Genero  Married dependientes     educacion  autoempleado  \\\n",
              "1  LP001003  Hombre        1            1      Graduado            No   \n",
              "2  LP001005  Hombre        1            0      Graduado            Si   \n",
              "3  LP001006  Hombre        1            0  Not Graduado            No   \n",
              "4  LP001008  Hombre        0            0      Graduado            No   \n",
              "5  LP001011  Hombre        1            2      Graduado            Si   \n",
              "\n",
              "    ingresos_solicitante   ingresos_cosolicitante   monto_prestamo  \\\n",
              "1                   4583                   1508.0            128.0   \n",
              "2                   3000                      0.0             66.0   \n",
              "3                   2583                   2358.0            120.0   \n",
              "4                   6000                      0.0            141.0   \n",
              "5                   5417                   4196.0            267.0   \n",
              "\n",
              "    plazo_prestamo   historial_crediticio  area_propiedad   estado_prestamo  \n",
              "1            360.0                    1.0           Rural                 0  \n",
              "2            360.0                    1.0          Urbano                 1  \n",
              "3            360.0                    1.0          Urbano                 1  \n",
              "4            360.0                    1.0          Urbano                 1  \n",
              "5            360.0                    1.0          Urbano                 1  "
            ],
            "text/html": [
              "\n",
              "  <div id=\"df-ac3d55d4-b5ad-4194-91c5-d579e2a932ae\" class=\"colab-df-container\">\n",
              "    <div>\n",
>>>>>>> 1af2340d8fcb944ffd996de9c916431f083d65c1
              "<style scoped>\n",
              "    .dataframe tbody tr th:only-of-type {\n",
              "        vertical-align: middle;\n",
              "    }\n",
              "\n",
              "    .dataframe tbody tr th {\n",
              "        vertical-align: top;\n",
              "    }\n",
              "\n",
              "    .dataframe thead th {\n",
              "        text-align: right;\n",
              "    }\n",
              "</style>\n",
              "<table border=\"1\" class=\"dataframe\">\n",
              "  <thead>\n",
              "    <tr style=\"text-align: right;\">\n",
              "      <th></th>\n",
              "      <th>ID</th>\n",
              "      <th>Genero</th>\n",
              "      <th>Married</th>\n",
              "      <th>dependientes</th>\n",
              "      <th>educacion</th>\n",
              "      <th>autoempleado</th>\n",
              "      <th>ingresos_solicitante</th>\n",
              "      <th>ingresos_cosolicitante</th>\n",
              "      <th>monto_prestamo</th>\n",
              "      <th>plazo_prestamo</th>\n",
              "      <th>historial_crediticio</th>\n",
              "      <th>area_propiedad</th>\n",
              "      <th>estado_prestamo</th>\n",
              "    </tr>\n",
              "  </thead>\n",
              "  <tbody>\n",
              "    <tr>\n",
              "      <th>1</th>\n",
              "      <td>LP001003</td>\n",
              "      <td>Hombre</td>\n",
              "      <td>1</td>\n",
              "      <td>1</td>\n",
              "      <td>Graduado</td>\n",
              "      <td>No</td>\n",
              "      <td>4583</td>\n",
              "      <td>1508.0</td>\n",
              "      <td>128.0</td>\n",
              "      <td>360.0</td>\n",
              "      <td>1.0</td>\n",
              "      <td>Rural</td>\n",
              "      <td>0</td>\n",
              "    </tr>\n",
              "    <tr>\n",
              "      <th>2</th>\n",
              "      <td>LP001005</td>\n",
              "      <td>Hombre</td>\n",
              "      <td>1</td>\n",
              "      <td>0</td>\n",
              "      <td>Graduado</td>\n",
              "      <td>Si</td>\n",
              "      <td>3000</td>\n",
              "      <td>0.0</td>\n",
              "      <td>66.0</td>\n",
              "      <td>360.0</td>\n",
              "      <td>1.0</td>\n",
              "      <td>Urbano</td>\n",
              "      <td>1</td>\n",
              "    </tr>\n",
              "    <tr>\n",
              "      <th>3</th>\n",
              "      <td>LP001006</td>\n",
              "      <td>Hombre</td>\n",
              "      <td>1</td>\n",
              "      <td>0</td>\n",
              "      <td>Not Graduado</td>\n",
              "      <td>No</td>\n",
              "      <td>2583</td>\n",
              "      <td>2358.0</td>\n",
              "      <td>120.0</td>\n",
              "      <td>360.0</td>\n",
              "      <td>1.0</td>\n",
              "      <td>Urbano</td>\n",
              "      <td>1</td>\n",
              "    </tr>\n",
              "    <tr>\n",
              "      <th>4</th>\n",
              "      <td>LP001008</td>\n",
              "      <td>Hombre</td>\n",
              "      <td>0</td>\n",
              "      <td>0</td>\n",
              "      <td>Graduado</td>\n",
              "      <td>No</td>\n",
              "      <td>6000</td>\n",
              "      <td>0.0</td>\n",
              "      <td>141.0</td>\n",
              "      <td>360.0</td>\n",
              "      <td>1.0</td>\n",
              "      <td>Urbano</td>\n",
              "      <td>1</td>\n",
              "    </tr>\n",
              "    <tr>\n",
              "      <th>5</th>\n",
              "      <td>LP001011</td>\n",
              "      <td>Hombre</td>\n",
              "      <td>1</td>\n",
              "      <td>2</td>\n",
              "      <td>Graduado</td>\n",
              "      <td>Si</td>\n",
              "      <td>5417</td>\n",
              "      <td>4196.0</td>\n",
              "      <td>267.0</td>\n",
              "      <td>360.0</td>\n",
              "      <td>1.0</td>\n",
              "      <td>Urbano</td>\n",
              "      <td>1</td>\n",
              "    </tr>\n",
              "  </tbody>\n",
              "</table>\n",
<<<<<<< HEAD
              "</div>"
            ],
            "text/plain": [
              "         ID  Genero  Married dependientes     educacion  autoempleado  \\\n",
              "1  LP001003  Hombre        1            1      Graduado            No   \n",
              "2  LP001005  Hombre        1            0      Graduado            Si   \n",
              "3  LP001006  Hombre        1            0  Not Graduado            No   \n",
              "4  LP001008  Hombre        0            0      Graduado            No   \n",
              "5  LP001011  Hombre        1            2      Graduado            Si   \n",
              "\n",
              "    ingresos_solicitante   ingresos_cosolicitante   monto_prestamo  \\\n",
              "1                   4583                   1508.0            128.0   \n",
              "2                   3000                      0.0             66.0   \n",
              "3                   2583                   2358.0            120.0   \n",
              "4                   6000                      0.0            141.0   \n",
              "5                   5417                   4196.0            267.0   \n",
              "\n",
              "    plazo_prestamo   historial_crediticio  area_propiedad   estado_prestamo  \n",
              "1            360.0                    1.0           Rural                 0  \n",
              "2            360.0                    1.0          Urbano                 1  \n",
              "3            360.0                    1.0          Urbano                 1  \n",
              "4            360.0                    1.0          Urbano                 1  \n",
              "5            360.0                    1.0          Urbano                 1  "
            ]
          },
          "execution_count": 94,
          "metadata": {},
          "output_type": "execute_result"
        }
      ],
      "source": [
        "data.head(5)"
=======
              "</div>\n",
              "    <div class=\"colab-df-buttons\">\n",
              "\n",
              "  <div class=\"colab-df-container\">\n",
              "    <button class=\"colab-df-convert\" onclick=\"convertToInteractive('df-ac3d55d4-b5ad-4194-91c5-d579e2a932ae')\"\n",
              "            title=\"Convert this dataframe to an interactive table.\"\n",
              "            style=\"display:none;\">\n",
              "\n",
              "  <svg xmlns=\"http://www.w3.org/2000/svg\" height=\"24px\" viewBox=\"0 -960 960 960\">\n",
              "    <path d=\"M120-120v-720h720v720H120Zm60-500h600v-160H180v160Zm220 220h160v-160H400v160Zm0 220h160v-160H400v160ZM180-400h160v-160H180v160Zm440 0h160v-160H620v160ZM180-180h160v-160H180v160Zm440 0h160v-160H620v160Z\"/>\n",
              "  </svg>\n",
              "    </button>\n",
              "\n",
              "  <style>\n",
              "    .colab-df-container {\n",
              "      display:flex;\n",
              "      gap: 12px;\n",
              "    }\n",
              "\n",
              "    .colab-df-convert {\n",
              "      background-color: #E8F0FE;\n",
              "      border: none;\n",
              "      border-radius: 50%;\n",
              "      cursor: pointer;\n",
              "      display: none;\n",
              "      fill: #1967D2;\n",
              "      height: 32px;\n",
              "      padding: 0 0 0 0;\n",
              "      width: 32px;\n",
              "    }\n",
              "\n",
              "    .colab-df-convert:hover {\n",
              "      background-color: #E2EBFA;\n",
              "      box-shadow: 0px 1px 2px rgba(60, 64, 67, 0.3), 0px 1px 3px 1px rgba(60, 64, 67, 0.15);\n",
              "      fill: #174EA6;\n",
              "    }\n",
              "\n",
              "    .colab-df-buttons div {\n",
              "      margin-bottom: 4px;\n",
              "    }\n",
              "\n",
              "    [theme=dark] .colab-df-convert {\n",
              "      background-color: #3B4455;\n",
              "      fill: #D2E3FC;\n",
              "    }\n",
              "\n",
              "    [theme=dark] .colab-df-convert:hover {\n",
              "      background-color: #434B5C;\n",
              "      box-shadow: 0px 1px 3px 1px rgba(0, 0, 0, 0.15);\n",
              "      filter: drop-shadow(0px 1px 2px rgba(0, 0, 0, 0.3));\n",
              "      fill: #FFFFFF;\n",
              "    }\n",
              "  </style>\n",
              "\n",
              "    <script>\n",
              "      const buttonEl =\n",
              "        document.querySelector('#df-ac3d55d4-b5ad-4194-91c5-d579e2a932ae button.colab-df-convert');\n",
              "      buttonEl.style.display =\n",
              "        google.colab.kernel.accessAllowed ? 'block' : 'none';\n",
              "\n",
              "      async function convertToInteractive(key) {\n",
              "        const element = document.querySelector('#df-ac3d55d4-b5ad-4194-91c5-d579e2a932ae');\n",
              "        const dataTable =\n",
              "          await google.colab.kernel.invokeFunction('convertToInteractive',\n",
              "                                                    [key], {});\n",
              "        if (!dataTable) return;\n",
              "\n",
              "        const docLinkHtml = 'Like what you see? Visit the ' +\n",
              "          '<a target=\"_blank\" href=https://colab.research.google.com/notebooks/data_table.ipynb>data table notebook</a>'\n",
              "          + ' to learn more about interactive tables.';\n",
              "        element.innerHTML = '';\n",
              "        dataTable['output_type'] = 'display_data';\n",
              "        await google.colab.output.renderOutput(dataTable, element);\n",
              "        const docLink = document.createElement('div');\n",
              "        docLink.innerHTML = docLinkHtml;\n",
              "        element.appendChild(docLink);\n",
              "      }\n",
              "    </script>\n",
              "  </div>\n",
              "\n",
              "\n",
              "<div id=\"df-81ca3d1a-91c2-4dbb-bf6f-e472f2d3c582\">\n",
              "  <button class=\"colab-df-quickchart\" onclick=\"quickchart('df-81ca3d1a-91c2-4dbb-bf6f-e472f2d3c582')\"\n",
              "            title=\"Suggest charts\"\n",
              "            style=\"display:none;\">\n",
              "\n",
              "<svg xmlns=\"http://www.w3.org/2000/svg\" height=\"24px\"viewBox=\"0 0 24 24\"\n",
              "     width=\"24px\">\n",
              "    <g>\n",
              "        <path d=\"M19 3H5c-1.1 0-2 .9-2 2v14c0 1.1.9 2 2 2h14c1.1 0 2-.9 2-2V5c0-1.1-.9-2-2-2zM9 17H7v-7h2v7zm4 0h-2V7h2v10zm4 0h-2v-4h2v4z\"/>\n",
              "    </g>\n",
              "</svg>\n",
              "  </button>\n",
              "\n",
              "<style>\n",
              "  .colab-df-quickchart {\n",
              "      --bg-color: #E8F0FE;\n",
              "      --fill-color: #1967D2;\n",
              "      --hover-bg-color: #E2EBFA;\n",
              "      --hover-fill-color: #174EA6;\n",
              "      --disabled-fill-color: #AAA;\n",
              "      --disabled-bg-color: #DDD;\n",
              "  }\n",
              "\n",
              "  [theme=dark] .colab-df-quickchart {\n",
              "      --bg-color: #3B4455;\n",
              "      --fill-color: #D2E3FC;\n",
              "      --hover-bg-color: #434B5C;\n",
              "      --hover-fill-color: #FFFFFF;\n",
              "      --disabled-bg-color: #3B4455;\n",
              "      --disabled-fill-color: #666;\n",
              "  }\n",
              "\n",
              "  .colab-df-quickchart {\n",
              "    background-color: var(--bg-color);\n",
              "    border: none;\n",
              "    border-radius: 50%;\n",
              "    cursor: pointer;\n",
              "    display: none;\n",
              "    fill: var(--fill-color);\n",
              "    height: 32px;\n",
              "    padding: 0;\n",
              "    width: 32px;\n",
              "  }\n",
              "\n",
              "  .colab-df-quickchart:hover {\n",
              "    background-color: var(--hover-bg-color);\n",
              "    box-shadow: 0 1px 2px rgba(60, 64, 67, 0.3), 0 1px 3px 1px rgba(60, 64, 67, 0.15);\n",
              "    fill: var(--button-hover-fill-color);\n",
              "  }\n",
              "\n",
              "  .colab-df-quickchart-complete:disabled,\n",
              "  .colab-df-quickchart-complete:disabled:hover {\n",
              "    background-color: var(--disabled-bg-color);\n",
              "    fill: var(--disabled-fill-color);\n",
              "    box-shadow: none;\n",
              "  }\n",
              "\n",
              "  .colab-df-spinner {\n",
              "    border: 2px solid var(--fill-color);\n",
              "    border-color: transparent;\n",
              "    border-bottom-color: var(--fill-color);\n",
              "    animation:\n",
              "      spin 1s steps(1) infinite;\n",
              "  }\n",
              "\n",
              "  @keyframes spin {\n",
              "    0% {\n",
              "      border-color: transparent;\n",
              "      border-bottom-color: var(--fill-color);\n",
              "      border-left-color: var(--fill-color);\n",
              "    }\n",
              "    20% {\n",
              "      border-color: transparent;\n",
              "      border-left-color: var(--fill-color);\n",
              "      border-top-color: var(--fill-color);\n",
              "    }\n",
              "    30% {\n",
              "      border-color: transparent;\n",
              "      border-left-color: var(--fill-color);\n",
              "      border-top-color: var(--fill-color);\n",
              "      border-right-color: var(--fill-color);\n",
              "    }\n",
              "    40% {\n",
              "      border-color: transparent;\n",
              "      border-right-color: var(--fill-color);\n",
              "      border-top-color: var(--fill-color);\n",
              "    }\n",
              "    60% {\n",
              "      border-color: transparent;\n",
              "      border-right-color: var(--fill-color);\n",
              "    }\n",
              "    80% {\n",
              "      border-color: transparent;\n",
              "      border-right-color: var(--fill-color);\n",
              "      border-bottom-color: var(--fill-color);\n",
              "    }\n",
              "    90% {\n",
              "      border-color: transparent;\n",
              "      border-bottom-color: var(--fill-color);\n",
              "    }\n",
              "  }\n",
              "</style>\n",
              "\n",
              "  <script>\n",
              "    async function quickchart(key) {\n",
              "      const quickchartButtonEl =\n",
              "        document.querySelector('#' + key + ' button');\n",
              "      quickchartButtonEl.disabled = true;  // To prevent multiple clicks.\n",
              "      quickchartButtonEl.classList.add('colab-df-spinner');\n",
              "      try {\n",
              "        const charts = await google.colab.kernel.invokeFunction(\n",
              "            'suggestCharts', [key], {});\n",
              "      } catch (error) {\n",
              "        console.error('Error during call to suggestCharts:', error);\n",
              "      }\n",
              "      quickchartButtonEl.classList.remove('colab-df-spinner');\n",
              "      quickchartButtonEl.classList.add('colab-df-quickchart-complete');\n",
              "    }\n",
              "    (() => {\n",
              "      let quickchartButtonEl =\n",
              "        document.querySelector('#df-81ca3d1a-91c2-4dbb-bf6f-e472f2d3c582 button');\n",
              "      quickchartButtonEl.style.display =\n",
              "        google.colab.kernel.accessAllowed ? 'block' : 'none';\n",
              "    })();\n",
              "  </script>\n",
              "</div>\n",
              "\n",
              "    </div>\n",
              "  </div>\n"
            ],
            "application/vnd.google.colaboratory.intrinsic+json": {
              "type": "dataframe",
              "variable_name": "data",
              "summary": "{\n  \"name\": \"data\",\n  \"rows\": 480,\n  \"fields\": [\n    {\n      \"column\": \"ID\",\n      \"properties\": {\n        \"dtype\": \"string\",\n        \"num_unique_values\": 480,\n        \"samples\": [\n          \"LP001319\",\n          \"LP002716\",\n          \"LP002622\"\n        ],\n        \"semantic_type\": \"\",\n        \"description\": \"\"\n      }\n    },\n    {\n      \"column\": \"Genero\",\n      \"properties\": {\n        \"dtype\": \"category\",\n        \"num_unique_values\": 2,\n        \"samples\": [\n          \"FeHombre\",\n          \"Hombre\"\n        ],\n        \"semantic_type\": \"\",\n        \"description\": \"\"\n      }\n    },\n    {\n      \"column\": \"Married\",\n      \"properties\": {\n        \"dtype\": \"number\",\n        \"std\": 0,\n        \"min\": 0,\n        \"max\": 1,\n        \"num_unique_values\": 2,\n        \"samples\": [\n          0,\n          1\n        ],\n        \"semantic_type\": \"\",\n        \"description\": \"\"\n      }\n    },\n    {\n      \"column\": \"dependientes\",\n      \"properties\": {\n        \"dtype\": \"category\",\n        \"num_unique_values\": 4,\n        \"samples\": [\n          \"0\",\n          \"3+\"\n        ],\n        \"semantic_type\": \"\",\n        \"description\": \"\"\n      }\n    },\n    {\n      \"column\": \" educacion\",\n      \"properties\": {\n        \"dtype\": \"category\",\n        \"num_unique_values\": 2,\n        \"samples\": [\n          \"Not Graduado\",\n          \"Graduado\"\n        ],\n        \"semantic_type\": \"\",\n        \"description\": \"\"\n      }\n    },\n    {\n      \"column\": \" autoempleado\",\n      \"properties\": {\n        \"dtype\": \"category\",\n        \"num_unique_values\": 2,\n        \"samples\": [\n          \"Si\",\n          \"No\"\n        ],\n        \"semantic_type\": \"\",\n        \"description\": \"\"\n      }\n    },\n    {\n      \"column\": \" ingresos_solicitante\",\n      \"properties\": {\n        \"dtype\": \"number\",\n        \"std\": 5668,\n        \"min\": 150,\n        \"max\": 81000,\n        \"num_unique_values\": 405,\n        \"samples\": [\n          2484,\n          3717\n        ],\n        \"semantic_type\": \"\",\n        \"description\": \"\"\n      }\n    },\n    {\n      \"column\": \" ingresos_cosolicitante\",\n      \"properties\": {\n        \"dtype\": \"number\",\n        \"std\": 2617.6922669225105,\n        \"min\": 0.0,\n        \"max\": 33837.0,\n        \"num_unique_values\": 232,\n        \"samples\": [\n          2064.0,\n          2083.0\n        ],\n        \"semantic_type\": \"\",\n        \"description\": \"\"\n      }\n    },\n    {\n      \"column\": \" monto_prestamo\",\n      \"properties\": {\n        \"dtype\": \"number\",\n        \"std\": 80.50816421360777,\n        \"min\": 9.0,\n        \"max\": 600.0,\n        \"num_unique_values\": 186,\n        \"samples\": [\n          192.0,\n          208.0\n        ],\n        \"semantic_type\": \"\",\n        \"description\": \"\"\n      }\n    },\n    {\n      \"column\": \" plazo_prestamo\",\n      \"properties\": {\n        \"dtype\": \"number\",\n        \"std\": 65.21240068043208,\n        \"min\": 36.0,\n        \"max\": 480.0,\n        \"num_unique_values\": 9,\n        \"samples\": [\n          36.0,\n          120.0\n        ],\n        \"semantic_type\": \"\",\n        \"description\": \"\"\n      }\n    },\n    {\n      \"column\": \" historial_crediticio\",\n      \"properties\": {\n        \"dtype\": \"number\",\n        \"std\": 0.3533072691637982,\n        \"min\": 0.0,\n        \"max\": 1.0,\n        \"num_unique_values\": 2,\n        \"samples\": [\n          0.0,\n          1.0\n        ],\n        \"semantic_type\": \"\",\n        \"description\": \"\"\n      }\n    },\n    {\n      \"column\": \" area_propiedad\",\n      \"properties\": {\n        \"dtype\": \"category\",\n        \"num_unique_values\": 3,\n        \"samples\": [\n          \"Rural\",\n          \"Urbano\"\n        ],\n        \"semantic_type\": \"\",\n        \"description\": \"\"\n      }\n    },\n    {\n      \"column\": \" estado_prestamo\",\n      \"properties\": {\n        \"dtype\": \"number\",\n        \"std\": 0,\n        \"min\": 0,\n        \"max\": 1,\n        \"num_unique_values\": 2,\n        \"samples\": [\n          1,\n          0\n        ],\n        \"semantic_type\": \"\",\n        \"description\": \"\"\n      }\n    }\n  ]\n}"
            }
          },
          "metadata": {},
          "execution_count": 31
        }
>>>>>>> 1af2340d8fcb944ffd996de9c916431f083d65c1
      ]
    },
    {
      "cell_type": "code",
<<<<<<< HEAD
      "execution_count": 99,
      "metadata": {},
      "outputs": [
        {
=======
      "source": [
        "data[\"Married\"].unique()"
      ],
      "metadata": {
        "id": "A1gJsu7Fw3gv",
        "outputId": "c61cc22b-818f-4956-c600-740d432a02a3",
        "colab": {
          "base_uri": "https://localhost:8080/"
        }
      },
      "execution_count": 32,
      "outputs": [
        {
          "output_type": "execute_result",
>>>>>>> 1af2340d8fcb944ffd996de9c916431f083d65c1
          "data": {
            "text/plain": [
              "array([1, 0])"
            ]
          },
<<<<<<< HEAD
          "execution_count": 99,
          "metadata": {},
          "output_type": "execute_result"
        }
      ],
      "source": [
        "data[\"Married\"].unique()"
=======
          "metadata": {},
          "execution_count": 32
        }
>>>>>>> 1af2340d8fcb944ffd996de9c916431f083d65c1
      ]
    },
    {
      "cell_type": "code",
<<<<<<< HEAD
      "execution_count": 102,
=======
      "execution_count": 33,
>>>>>>> 1af2340d8fcb944ffd996de9c916431f083d65c1
      "metadata": {
        "colab": {
          "base_uri": "https://localhost:8080/",
          "height": 74
        },
        "id": "cP-r7vkypV09",
        "outputId": "b82ce256-766c-4f95-a3c4-e0b738c23962"
      },
      "outputs": [
        {
          "output_type": "execute_result",
          "data": {
<<<<<<< HEAD
            "text/html": [
              "<style>#sk-container-id-2 {color: black;}#sk-container-id-2 pre{padding: 0;}#sk-container-id-2 div.sk-toggleable {background-color: white;}#sk-container-id-2 label.sk-toggleable__label {cursor: pointer;display: block;width: 100%;margin-bottom: 0;padding: 0.3em;box-sizing: border-box;text-align: center;}#sk-container-id-2 label.sk-toggleable__label-arrow:before {content: \"▸\";float: left;margin-right: 0.25em;color: #696969;}#sk-container-id-2 label.sk-toggleable__label-arrow:hover:before {color: black;}#sk-container-id-2 div.sk-estimator:hover label.sk-toggleable__label-arrow:before {color: black;}#sk-container-id-2 div.sk-toggleable__content {max-height: 0;max-width: 0;overflow: hidden;text-align: left;background-color: #f0f8ff;}#sk-container-id-2 div.sk-toggleable__content pre {margin: 0.2em;color: black;border-radius: 0.25em;background-color: #f0f8ff;}#sk-container-id-2 input.sk-toggleable__control:checked~div.sk-toggleable__content {max-height: 200px;max-width: 100%;overflow: auto;}#sk-container-id-2 input.sk-toggleable__control:checked~label.sk-toggleable__label-arrow:before {content: \"▾\";}#sk-container-id-2 div.sk-estimator input.sk-toggleable__control:checked~label.sk-toggleable__label {background-color: #d4ebff;}#sk-container-id-2 div.sk-label input.sk-toggleable__control:checked~label.sk-toggleable__label {background-color: #d4ebff;}#sk-container-id-2 input.sk-hidden--visually {border: 0;clip: rect(1px 1px 1px 1px);clip: rect(1px, 1px, 1px, 1px);height: 1px;margin: -1px;overflow: hidden;padding: 0;position: absolute;width: 1px;}#sk-container-id-2 div.sk-estimator {font-family: monospace;background-color: #f0f8ff;border: 1px dotted black;border-radius: 0.25em;box-sizing: border-box;margin-bottom: 0.5em;}#sk-container-id-2 div.sk-estimator:hover {background-color: #d4ebff;}#sk-container-id-2 div.sk-parallel-item::after {content: \"\";width: 100%;border-bottom: 1px solid gray;flex-grow: 1;}#sk-container-id-2 div.sk-label:hover label.sk-toggleable__label {background-color: #d4ebff;}#sk-container-id-2 div.sk-serial::before {content: \"\";position: absolute;border-left: 1px solid gray;box-sizing: border-box;top: 0;bottom: 0;left: 50%;z-index: 0;}#sk-container-id-2 div.sk-serial {display: flex;flex-direction: column;align-items: center;background-color: white;padding-right: 0.2em;padding-left: 0.2em;position: relative;}#sk-container-id-2 div.sk-item {position: relative;z-index: 1;}#sk-container-id-2 div.sk-parallel {display: flex;align-items: stretch;justify-content: center;background-color: white;position: relative;}#sk-container-id-2 div.sk-item::before, #sk-container-id-2 div.sk-parallel-item::before {content: \"\";position: absolute;border-left: 1px solid gray;box-sizing: border-box;top: 0;bottom: 0;left: 50%;z-index: -1;}#sk-container-id-2 div.sk-parallel-item {display: flex;flex-direction: column;z-index: 1;position: relative;background-color: white;}#sk-container-id-2 div.sk-parallel-item:first-child::after {align-self: flex-end;width: 50%;}#sk-container-id-2 div.sk-parallel-item:last-child::after {align-self: flex-start;width: 50%;}#sk-container-id-2 div.sk-parallel-item:only-child::after {width: 0;}#sk-container-id-2 div.sk-dashed-wrapped {border: 1px dashed gray;margin: 0 0.4em 0.5em 0.4em;box-sizing: border-box;padding-bottom: 0.4em;background-color: white;}#sk-container-id-2 div.sk-label label {font-family: monospace;font-weight: bold;display: inline-block;line-height: 1.2em;}#sk-container-id-2 div.sk-label-container {text-align: center;}#sk-container-id-2 div.sk-container {/* jupyter's `normalize.less` sets `[hidden] { display: none; }` but bootstrap.min.css set `[hidden] { display: none !important; }` so we also need the `!important` here to be able to override the default hidden behavior on the sphinx rendered scikit-learn.org. See: https://github.com/scikit-learn/scikit-learn/issues/21755 */display: inline-block !important;position: relative;}#sk-container-id-2 div.sk-text-repr-fallback {display: none;}</style><div id=\"sk-container-id-2\" class=\"sk-top-container\"><div class=\"sk-text-repr-fallback\"><pre>RandomForestClassifier(random_state=42)</pre><b>In a Jupyter environment, please rerun this cell to show the HTML representation or trust the notebook. <br />On GitHub, the HTML representation is unable to render, please try loading this page with nbviewer.org.</b></div><div class=\"sk-container\" hidden><div class=\"sk-item\"><div class=\"sk-estimator sk-toggleable\"><input class=\"sk-toggleable__control sk-hidden--visually\" id=\"sk-estimator-id-2\" type=\"checkbox\" checked><label for=\"sk-estimator-id-2\" class=\"sk-toggleable__label sk-toggleable__label-arrow\">RandomForestClassifier</label><div class=\"sk-toggleable__content\"><pre>RandomForestClassifier(random_state=42)</pre></div></div></div></div></div>"
            ],
=======
>>>>>>> 1af2340d8fcb944ffd996de9c916431f083d65c1
            "text/plain": [
              "RandomForestClassifier(random_state=42)"
            ],
            "text/html": [
              "<style>#sk-container-id-1 {color: black;background-color: white;}#sk-container-id-1 pre{padding: 0;}#sk-container-id-1 div.sk-toggleable {background-color: white;}#sk-container-id-1 label.sk-toggleable__label {cursor: pointer;display: block;width: 100%;margin-bottom: 0;padding: 0.3em;box-sizing: border-box;text-align: center;}#sk-container-id-1 label.sk-toggleable__label-arrow:before {content: \"▸\";float: left;margin-right: 0.25em;color: #696969;}#sk-container-id-1 label.sk-toggleable__label-arrow:hover:before {color: black;}#sk-container-id-1 div.sk-estimator:hover label.sk-toggleable__label-arrow:before {color: black;}#sk-container-id-1 div.sk-toggleable__content {max-height: 0;max-width: 0;overflow: hidden;text-align: left;background-color: #f0f8ff;}#sk-container-id-1 div.sk-toggleable__content pre {margin: 0.2em;color: black;border-radius: 0.25em;background-color: #f0f8ff;}#sk-container-id-1 input.sk-toggleable__control:checked~div.sk-toggleable__content {max-height: 200px;max-width: 100%;overflow: auto;}#sk-container-id-1 input.sk-toggleable__control:checked~label.sk-toggleable__label-arrow:before {content: \"▾\";}#sk-container-id-1 div.sk-estimator input.sk-toggleable__control:checked~label.sk-toggleable__label {background-color: #d4ebff;}#sk-container-id-1 div.sk-label input.sk-toggleable__control:checked~label.sk-toggleable__label {background-color: #d4ebff;}#sk-container-id-1 input.sk-hidden--visually {border: 0;clip: rect(1px 1px 1px 1px);clip: rect(1px, 1px, 1px, 1px);height: 1px;margin: -1px;overflow: hidden;padding: 0;position: absolute;width: 1px;}#sk-container-id-1 div.sk-estimator {font-family: monospace;background-color: #f0f8ff;border: 1px dotted black;border-radius: 0.25em;box-sizing: border-box;margin-bottom: 0.5em;}#sk-container-id-1 div.sk-estimator:hover {background-color: #d4ebff;}#sk-container-id-1 div.sk-parallel-item::after {content: \"\";width: 100%;border-bottom: 1px solid gray;flex-grow: 1;}#sk-container-id-1 div.sk-label:hover label.sk-toggleable__label {background-color: #d4ebff;}#sk-container-id-1 div.sk-serial::before {content: \"\";position: absolute;border-left: 1px solid gray;box-sizing: border-box;top: 0;bottom: 0;left: 50%;z-index: 0;}#sk-container-id-1 div.sk-serial {display: flex;flex-direction: column;align-items: center;background-color: white;padding-right: 0.2em;padding-left: 0.2em;position: relative;}#sk-container-id-1 div.sk-item {position: relative;z-index: 1;}#sk-container-id-1 div.sk-parallel {display: flex;align-items: stretch;justify-content: center;background-color: white;position: relative;}#sk-container-id-1 div.sk-item::before, #sk-container-id-1 div.sk-parallel-item::before {content: \"\";position: absolute;border-left: 1px solid gray;box-sizing: border-box;top: 0;bottom: 0;left: 50%;z-index: -1;}#sk-container-id-1 div.sk-parallel-item {display: flex;flex-direction: column;z-index: 1;position: relative;background-color: white;}#sk-container-id-1 div.sk-parallel-item:first-child::after {align-self: flex-end;width: 50%;}#sk-container-id-1 div.sk-parallel-item:last-child::after {align-self: flex-start;width: 50%;}#sk-container-id-1 div.sk-parallel-item:only-child::after {width: 0;}#sk-container-id-1 div.sk-dashed-wrapped {border: 1px dashed gray;margin: 0 0.4em 0.5em 0.4em;box-sizing: border-box;padding-bottom: 0.4em;background-color: white;}#sk-container-id-1 div.sk-label label {font-family: monospace;font-weight: bold;display: inline-block;line-height: 1.2em;}#sk-container-id-1 div.sk-label-container {text-align: center;}#sk-container-id-1 div.sk-container {/* jupyter's `normalize.less` sets `[hidden] { display: none; }` but bootstrap.min.css set `[hidden] { display: none !important; }` so we also need the `!important` here to be able to override the default hidden behavior on the sphinx rendered scikit-learn.org. See: https://github.com/scikit-learn/scikit-learn/issues/21755 */display: inline-block !important;position: relative;}#sk-container-id-1 div.sk-text-repr-fallback {display: none;}</style><div id=\"sk-container-id-1\" class=\"sk-top-container\"><div class=\"sk-text-repr-fallback\"><pre>RandomForestClassifier(random_state=42)</pre><b>In a Jupyter environment, please rerun this cell to show the HTML representation or trust the notebook. <br />On GitHub, the HTML representation is unable to render, please try loading this page with nbviewer.org.</b></div><div class=\"sk-container\" hidden><div class=\"sk-item\"><div class=\"sk-estimator sk-toggleable\"><input class=\"sk-toggleable__control sk-hidden--visually\" id=\"sk-estimator-id-1\" type=\"checkbox\" checked><label for=\"sk-estimator-id-1\" class=\"sk-toggleable__label sk-toggleable__label-arrow\">RandomForestClassifier</label><div class=\"sk-toggleable__content\"><pre>RandomForestClassifier(random_state=42)</pre></div></div></div></div></div>"
            ]
          },
<<<<<<< HEAD
          "execution_count": 102,
=======
>>>>>>> 1af2340d8fcb944ffd996de9c916431f083d65c1
          "metadata": {},
          "execution_count": 33
        }
      ],
      "source": [
        "# Dividir el conjunto de datos en entrenamiento y prueba\n",
        "X_train, X_test, y_train, y_test = train_test_split(X, y, test_size=0.2, random_state=42)\n",
        "\n",
        "# Paso 4: Entrenar un modelo de clasificación (usando Random Forest como ejemplo)\n",
        "modelo = RandomForestClassifier(random_state=42)\n",
        "modelo.fit(X_train, y_train)"
      ]
    },
    {
      "cell_type": "code",
<<<<<<< HEAD
      "execution_count": 103,
=======
      "execution_count": 34,
>>>>>>> 1af2340d8fcb944ffd996de9c916431f083d65c1
      "metadata": {
        "colab": {
          "base_uri": "https://localhost:8080/",
          "height": 790
        },
        "id": "oG5GbHgQsXRv",
        "outputId": "e2ba4397-3f26-4f1e-8511-bc76e1ddb01c"
      },
      "outputs": [
        {
          "output_type": "stream",
          "name": "stdout",
          "text": [
            "\n",
            "Precisión del modelo: 0.66\n"
          ]
        },
        {
          "output_type": "display_data",
          "data": {
<<<<<<< HEAD
            "image/png": "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",
=======
>>>>>>> 1af2340d8fcb944ffd996de9c916431f083d65c1
            "text/plain": [
              "<Figure size 800x600 with 1 Axes>"
            ],
            "image/png": "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\n"
          },
          "metadata": {}
        },
        {
          "output_type": "stream",
          "name": "stdout",
          "text": [
            "\n",
            "Informe de Clasificación:\n",
            "              precision    recall  f1-score   support\n",
            "\n",
            "           0       0.33      0.18      0.23        28\n",
            "           1       0.72      0.85      0.78        68\n",
            "\n",
            "    accuracy                           0.66        96\n",
            "   macro avg       0.52      0.52      0.51        96\n",
            "weighted avg       0.60      0.66      0.62        96\n",
            "\n"
          ]
        }
      ],
      "source": [
        "# Paso 5: Evaluación del modelo\n",
        "y_pred = modelo.predict(X_test)\n",
        "\n",
        "# Calcular la precisión del modelo\n",
        "precision = accuracy_score(y_test, y_pred)\n",
        "print(f\"\\nPrecisión del modelo: {precision:.2f}\")\n",
        "\n",
        "# Mostrar la matriz de confusión\n",
        "matriz_confusion = confusion_matrix(y_test, y_pred)\n",
        "plt.figure(figsize=(8, 6))\n",
        "sns.heatmap(matriz_confusion, annot=True, fmt='d', cmap='Blues', cbar=False)\n",
        "plt.xlabel('Predicciones')\n",
        "plt.ylabel('Valores reales')\n",
        "plt.title('Matriz de Confusión')\n",
        "plt.show()\n",
        "\n",
        "# Mostrar el informe de clasificación\n",
        "informe_clasificacion = classification_report(y_test, y_pred)\n",
        "print(\"\\nInforme de Clasificación:\")\n",
        "print(informe_clasificacion)"
      ]
    },
    {
      "cell_type": "code",
<<<<<<< HEAD
      "execution_count": 24,
      "metadata": {},
=======
      "execution_count": null,
      "metadata": {
        "id": "Oxg-z4qVvP2S"
      },
>>>>>>> 1af2340d8fcb944ffd996de9c916431f083d65c1
      "outputs": [],
      "source": [
        "# Paso 6: Guardar el modelo entrenado\n",
        "import pickle\n",
        "\n",
        "with open('modelo_prestamo.pkl', 'wb') as archivo_salida:\n",
        "    pickle.dump(modelo, archivo_salida)\n",
        "\n",
        "# Paso 7: Cargar el modelo entrenado\n",
        "with open('modelo_prestamo.pkl', 'rb') as archivo_entrada:\n",
        "    modelo_cargado = pickle.load(archivo_entrada)\n",
        ""
      ]
    },
    {
      "cell_type": "code",
      "execution_count": null,
      "metadata": {
        "id": "U4BBCJ0TvP2S"
      },
      "outputs": [],
      "source": [
        "# Ejercicio: Predecir si un préstamo será aprobado o no utilizando otras variables del conjunto de datos\n"
      ]
    }
  ],
  "metadata": {
    "colab": {
      "provenance": [],
      "include_colab_link": true
    },
    "kernelspec": {
      "display_name": "Python 3",
      "name": "python3"
    },
    "language_info": {
      "codemirror_mode": {
        "name": "ipython",
        "version": 3
      },
      "file_extension": ".py",
      "mimetype": "text/x-python",
      "name": "python",
      "nbconvert_exporter": "python",
      "pygments_lexer": "ipython3",
      "version": "3.11.5"
    }
  },
  "nbformat": 4,
  "nbformat_minor": 0
}